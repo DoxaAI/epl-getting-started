{
 "cells": [
  {
   "cell_type": "markdown",
   "id": "f9593b7f",
   "metadata": {},
   "source": [
    "# UCLAIS Dev: EPL Prediction"
   ]
  },
  {
   "cell_type": "markdown",
   "id": "75de2404",
   "metadata": {},
   "source": [
    "We are proud to present you with the first challenge of the 2022-23 UCLAIS Dev Competition series: English Premier League prediction. You will be introduced to a variety of core concepts in machine learning and their implementation using `scikit-learn`. \n",
    "\n",
    "This Jupyter notebook will guide you through the various general stages involved in end-to-end machine learning projects, including data visualisation, data preprocessing, model selection, model training and model evaluation. Finally, you will get the chance to submit your results to [DOXA](https://doxaai.com/).\n",
    "\n",
    "If you do not already have a DOXA account, you will want to [sign up](https://doxaai.com/sign-up) first before proceeding.\n"
   ]
  },
  {
   "cell_type": "markdown",
   "id": "d9942c0f",
   "metadata": {},
   "source": [
    "![title](https://ajira.anzimag.com/wp-content/uploads/2022/08/5-8.png)"
   ]
  },
  {
   "cell_type": "markdown",
   "id": "e542f871",
   "metadata": {},
   "source": [
    "**Background**: English Premier League, is a professional football (soccer) league established in 1992. The league, which comprises 20 clubs, superseded the first division of the English Football League (EFL) as the top level of football in England.\n",
    "\n",
    "During a Premier League season, each club plays one home and one away match with every other team in the league (which means every team will play 38 matches for each season). A match victory gives the winning team three points in the standings, while a draw results in one point for each club.\n",
    "\n",
    "The bottom three clubs of the Premier League are relegated (dropped), and the top three finishers of first-division (EFL Championship) teams of the EFL are promoted to the Premier League.\n",
    "\n",
    "**Objective**: The main objective for this challenge is to predict the result of an EPL match given some prior information about the match\n",
    "\n",
    "**Dataset**: EPL matches dating back from August 2003. The dataset is attained from [Foorball Data](https://www.football-data.co.uk/englandm.php)"
   ]
  },
  {
   "cell_type": "markdown",
   "id": "ca822831",
   "metadata": {},
   "source": [
    "## Machine Learning Workflow"
   ]
  },
  {
   "cell_type": "markdown",
   "id": "7336cbe7",
   "metadata": {},
   "source": [
    "![title](https://miro.medium.com/max/1400/0*V0GyOt3LoDVfY7y5.png)"
   ]
  },
  {
   "cell_type": "markdown",
   "id": "05d966c1",
   "metadata": {},
   "source": [
    "As you already know, the machine learning process covers a wide set of steps. As you go through this notebook, try to keep in mind which stage are we dealing with at that moment and what we are trying to achieve. \n",
    "\n",
    "There are a lot of helpful resources online you can use, such as the excellent `scikit-learn` [documentation](https://scikit-learn.org/stable/getting_started.html). If you need some motivation, go to Kaggle, and search for any challenges/notebook that looks similar to the problem we are doing. For example, [NCAA Basketball](https://www.kaggle.com/datasets/ncaa/ncaa-basketball) and [International Football Matches](https://www.kaggle.com/datasets/martj42/international-football-results-from-1872-to-2017?datasetId=4305&sortBy=voteCount)."
   ]
  },
  {
   "cell_type": "markdown",
   "id": "954cea8e",
   "metadata": {},
   "source": [
    "## Installing and Importing Useful Packages\n",
    "\n",
    "To get started, we will install a number of common machine learning packages."
   ]
  },
  {
   "cell_type": "code",
   "execution_count": 1,
   "id": "8ecb8a5f",
   "metadata": {},
   "outputs": [],
   "source": [
    "# %pip install numpy pandas matplotlib seaborn scikit-learn"
   ]
  },
  {
   "cell_type": "code",
   "execution_count": 2,
   "id": "e5ecdc0b",
   "metadata": {},
   "outputs": [],
   "source": [
    "# Import relevant libraries\n",
    "import os\n",
    "import numpy as np\n",
    "import pandas as pd\n",
    "import seaborn as sns\n",
    "import matplotlib.pyplot as plt\n",
    "import sklearn as sk\n",
    "import scipy as sp\n",
    "\n",
    "from pathlib import Path\n",
    "\n",
    "# Import relevant sklearn classes/functions related to data preprocessing\n",
    "from sklearn.model_selection import train_test_split\n",
    "from sklearn.decomposition import PCA\n",
    "from sklearn.preprocessing import MinMaxScaler, StandardScaler, OrdinalEncoder, PolynomialFeatures, OneHotEncoder, LabelEncoder\n",
    "\n",
    "# Import relevant sklearn classes related to machine learning models\n",
    "from sklearn.linear_model import LinearRegression, LogisticRegression, Lasso, ElasticNet\n",
    "from sklearn.svm import SVC, SVR, NuSVC\n",
    "from sklearn.tree import DecisionTreeClassifier, DecisionTreeRegressor\n",
    "from sklearn.ensemble import RandomForestClassifier, GradientBoostingClassifier, BaggingClassifier\n",
    "\n",
    "# Import relevant sklearn class/function related to evaluation\n",
    "from sklearn.metrics import accuracy_score, f1_score, ConfusionMatrixDisplay \n",
    "\n",
    "from scipy.optimize import minimize\n",
    "\n",
    "%matplotlib ipympl"
   ]
  },
  {
   "cell_type": "markdown",
   "id": "47e7a4a0",
   "metadata": {},
   "source": [
    "## Data Loading"
   ]
  },
  {
   "cell_type": "code",
   "execution_count": 3,
   "id": "3b3822f6",
   "metadata": {},
   "outputs": [],
   "source": [
    "# Let's download the dataset if we don't already have it!\n",
    "if not os.path.exists(\"data\"):\n",
    "    os.makedirs(\"data\", exist_ok=True)\n",
    "\n",
    "    !curl https://raw.githubusercontent.com/DoxaAI/epl-getting-started/data/train.csv --output data/train.csv\n",
    "    !curl https://raw.githubusercontent.com/DoxaAI/epl-getting-started/data/test.csv --output data/test.csv"
   ]
  },
  {
   "cell_type": "code",
   "execution_count": 4,
   "id": "5c1be89f",
   "metadata": {},
   "outputs": [],
   "source": [
    "# Import the training dataset\n",
    "data_original = pd.read_csv(\"./data/train.csv\")  # Change the path accordingly\n",
    "\n",
    "# Import the testing dataset\n",
    "data_test = pd.read_csv(\"./data/test.csv\")  # Change the path accordingly\n",
    "\n",
    "# We then make a copy of the training set that we can manipulate\n",
    "# and process while leaving the original intact\n",
    "data = data_original.copy()"
   ]
  },
  {
   "cell_type": "markdown",
   "id": "9b6d0ead",
   "metadata": {},
   "source": [
    "## Data Understanding "
   ]
  },
  {
   "cell_type": "markdown",
   "id": "9cf5e99d",
   "metadata": {},
   "source": [
    "Before we start to train our Machine Learning model, it is important to have a look and understand first the dataset that we will be using. This will provide some insights onto which model, model hyperparameter, and loss function are suitable for the problem we are dealing with. "
   ]
  },
  {
   "cell_type": "code",
   "execution_count": 5,
   "id": "4d65ceb2",
   "metadata": {},
   "outputs": [
    {
     "data": {
      "text/html": [
       "<div>\n",
       "<style scoped>\n",
       "    .dataframe tbody tr th:only-of-type {\n",
       "        vertical-align: middle;\n",
       "    }\n",
       "\n",
       "    .dataframe tbody tr th {\n",
       "        vertical-align: top;\n",
       "    }\n",
       "\n",
       "    .dataframe thead th {\n",
       "        text-align: right;\n",
       "    }\n",
       "</style>\n",
       "<table border=\"1\" class=\"dataframe\">\n",
       "  <thead>\n",
       "    <tr style=\"text-align: right;\">\n",
       "      <th></th>\n",
       "      <th>date</th>\n",
       "      <th>home_team</th>\n",
       "      <th>away_team</th>\n",
       "      <th>full_time_home_goals</th>\n",
       "      <th>full_time_away_goals</th>\n",
       "      <th>full_time_result</th>\n",
       "      <th>half_time_home_goals</th>\n",
       "      <th>half_time_away_goals</th>\n",
       "      <th>half_time_result</th>\n",
       "      <th>referee</th>\n",
       "      <th>...</th>\n",
       "      <th>home_shots_on_target</th>\n",
       "      <th>away_shots_on_target</th>\n",
       "      <th>home_fouls</th>\n",
       "      <th>away_fouls</th>\n",
       "      <th>home_corners</th>\n",
       "      <th>away_corners</th>\n",
       "      <th>home_yellow_cards</th>\n",
       "      <th>away_yellow_cards</th>\n",
       "      <th>home_red_cards</th>\n",
       "      <th>away_red_cards</th>\n",
       "    </tr>\n",
       "  </thead>\n",
       "  <tbody>\n",
       "    <tr>\n",
       "      <th>0</th>\n",
       "      <td>2003-08-16</td>\n",
       "      <td>Arsenal</td>\n",
       "      <td>Everton</td>\n",
       "      <td>2</td>\n",
       "      <td>1</td>\n",
       "      <td>H</td>\n",
       "      <td>1</td>\n",
       "      <td>0</td>\n",
       "      <td>H</td>\n",
       "      <td>M Halsey</td>\n",
       "      <td>...</td>\n",
       "      <td>5</td>\n",
       "      <td>7</td>\n",
       "      <td>8</td>\n",
       "      <td>15</td>\n",
       "      <td>6</td>\n",
       "      <td>9</td>\n",
       "      <td>1</td>\n",
       "      <td>3</td>\n",
       "      <td>1</td>\n",
       "      <td>1</td>\n",
       "    </tr>\n",
       "    <tr>\n",
       "      <th>1</th>\n",
       "      <td>2003-08-16</td>\n",
       "      <td>Fulham</td>\n",
       "      <td>Middlesbrough</td>\n",
       "      <td>3</td>\n",
       "      <td>2</td>\n",
       "      <td>H</td>\n",
       "      <td>1</td>\n",
       "      <td>1</td>\n",
       "      <td>D</td>\n",
       "      <td>G Poll</td>\n",
       "      <td>...</td>\n",
       "      <td>9</td>\n",
       "      <td>5</td>\n",
       "      <td>18</td>\n",
       "      <td>16</td>\n",
       "      <td>7</td>\n",
       "      <td>6</td>\n",
       "      <td>1</td>\n",
       "      <td>1</td>\n",
       "      <td>0</td>\n",
       "      <td>0</td>\n",
       "    </tr>\n",
       "    <tr>\n",
       "      <th>2</th>\n",
       "      <td>2003-08-16</td>\n",
       "      <td>Birmingham</td>\n",
       "      <td>Tottenham</td>\n",
       "      <td>1</td>\n",
       "      <td>0</td>\n",
       "      <td>H</td>\n",
       "      <td>1</td>\n",
       "      <td>0</td>\n",
       "      <td>H</td>\n",
       "      <td>R Styles</td>\n",
       "      <td>...</td>\n",
       "      <td>5</td>\n",
       "      <td>7</td>\n",
       "      <td>20</td>\n",
       "      <td>27</td>\n",
       "      <td>1</td>\n",
       "      <td>4</td>\n",
       "      <td>3</td>\n",
       "      <td>5</td>\n",
       "      <td>0</td>\n",
       "      <td>0</td>\n",
       "    </tr>\n",
       "    <tr>\n",
       "      <th>3</th>\n",
       "      <td>2003-08-16</td>\n",
       "      <td>Portsmouth</td>\n",
       "      <td>Aston Villa</td>\n",
       "      <td>2</td>\n",
       "      <td>1</td>\n",
       "      <td>H</td>\n",
       "      <td>1</td>\n",
       "      <td>0</td>\n",
       "      <td>H</td>\n",
       "      <td>G Barber</td>\n",
       "      <td>...</td>\n",
       "      <td>3</td>\n",
       "      <td>5</td>\n",
       "      <td>18</td>\n",
       "      <td>22</td>\n",
       "      <td>7</td>\n",
       "      <td>9</td>\n",
       "      <td>2</td>\n",
       "      <td>1</td>\n",
       "      <td>0</td>\n",
       "      <td>1</td>\n",
       "    </tr>\n",
       "    <tr>\n",
       "      <th>4</th>\n",
       "      <td>2003-08-16</td>\n",
       "      <td>Man United</td>\n",
       "      <td>Bolton</td>\n",
       "      <td>4</td>\n",
       "      <td>0</td>\n",
       "      <td>H</td>\n",
       "      <td>1</td>\n",
       "      <td>0</td>\n",
       "      <td>H</td>\n",
       "      <td>P Durkin</td>\n",
       "      <td>...</td>\n",
       "      <td>6</td>\n",
       "      <td>5</td>\n",
       "      <td>12</td>\n",
       "      <td>8</td>\n",
       "      <td>8</td>\n",
       "      <td>4</td>\n",
       "      <td>0</td>\n",
       "      <td>4</td>\n",
       "      <td>0</td>\n",
       "      <td>0</td>\n",
       "    </tr>\n",
       "  </tbody>\n",
       "</table>\n",
       "<p>5 rows × 22 columns</p>\n",
       "</div>"
      ],
      "text/plain": [
       "         date   home_team      away_team  full_time_home_goals  \\\n",
       "0  2003-08-16     Arsenal        Everton                     2   \n",
       "1  2003-08-16      Fulham  Middlesbrough                     3   \n",
       "2  2003-08-16  Birmingham      Tottenham                     1   \n",
       "3  2003-08-16  Portsmouth    Aston Villa                     2   \n",
       "4  2003-08-16  Man United         Bolton                     4   \n",
       "\n",
       "   full_time_away_goals full_time_result  half_time_home_goals  \\\n",
       "0                     1                H                     1   \n",
       "1                     2                H                     1   \n",
       "2                     0                H                     1   \n",
       "3                     1                H                     1   \n",
       "4                     0                H                     1   \n",
       "\n",
       "   half_time_away_goals half_time_result   referee  ...  home_shots_on_target  \\\n",
       "0                     0                H  M Halsey  ...                     5   \n",
       "1                     1                D    G Poll  ...                     9   \n",
       "2                     0                H  R Styles  ...                     5   \n",
       "3                     0                H  G Barber  ...                     3   \n",
       "4                     0                H  P Durkin  ...                     6   \n",
       "\n",
       "   away_shots_on_target  home_fouls  away_fouls  home_corners  away_corners  \\\n",
       "0                     7           8          15             6             9   \n",
       "1                     5          18          16             7             6   \n",
       "2                     7          20          27             1             4   \n",
       "3                     5          18          22             7             9   \n",
       "4                     5          12           8             8             4   \n",
       "\n",
       "   home_yellow_cards  away_yellow_cards  home_red_cards  away_red_cards  \n",
       "0                  1                  3               1               1  \n",
       "1                  1                  1               0               0  \n",
       "2                  3                  5               0               0  \n",
       "3                  2                  1               0               1  \n",
       "4                  0                  4               0               0  \n",
       "\n",
       "[5 rows x 22 columns]"
      ]
     },
     "execution_count": 5,
     "metadata": {},
     "output_type": "execute_result"
    }
   ],
   "source": [
    "# Let's see the first 5 entries of our dataset\n",
    "data.head()"
   ]
  },
  {
   "cell_type": "code",
   "execution_count": 6,
   "id": "ae61e1bd",
   "metadata": {},
   "outputs": [
    {
     "data": {
      "text/html": [
       "<div>\n",
       "<style scoped>\n",
       "    .dataframe tbody tr th:only-of-type {\n",
       "        vertical-align: middle;\n",
       "    }\n",
       "\n",
       "    .dataframe tbody tr th {\n",
       "        vertical-align: top;\n",
       "    }\n",
       "\n",
       "    .dataframe thead th {\n",
       "        text-align: right;\n",
       "    }\n",
       "</style>\n",
       "<table border=\"1\" class=\"dataframe\">\n",
       "  <thead>\n",
       "    <tr style=\"text-align: right;\">\n",
       "      <th></th>\n",
       "      <th>full_time_home_goals</th>\n",
       "      <th>full_time_away_goals</th>\n",
       "      <th>half_time_home_goals</th>\n",
       "      <th>half_time_away_goals</th>\n",
       "      <th>home_shots</th>\n",
       "      <th>away_shots</th>\n",
       "      <th>home_shots_on_target</th>\n",
       "      <th>away_shots_on_target</th>\n",
       "      <th>home_fouls</th>\n",
       "      <th>away_fouls</th>\n",
       "      <th>home_corners</th>\n",
       "      <th>away_corners</th>\n",
       "      <th>home_yellow_cards</th>\n",
       "      <th>away_yellow_cards</th>\n",
       "      <th>home_red_cards</th>\n",
       "      <th>away_red_cards</th>\n",
       "    </tr>\n",
       "  </thead>\n",
       "  <tbody>\n",
       "    <tr>\n",
       "      <th>count</th>\n",
       "      <td>6630.000000</td>\n",
       "      <td>6630.000000</td>\n",
       "      <td>6630.000000</td>\n",
       "      <td>6630.000000</td>\n",
       "      <td>6630.000000</td>\n",
       "      <td>6630.000000</td>\n",
       "      <td>6630.000000</td>\n",
       "      <td>6630.000000</td>\n",
       "      <td>6630.000000</td>\n",
       "      <td>6630.000000</td>\n",
       "      <td>6630.000000</td>\n",
       "      <td>6630.000000</td>\n",
       "      <td>6630.000000</td>\n",
       "      <td>6630.000000</td>\n",
       "      <td>6630.000000</td>\n",
       "      <td>6630.000000</td>\n",
       "    </tr>\n",
       "    <tr>\n",
       "      <th>mean</th>\n",
       "      <td>1.521116</td>\n",
       "      <td>1.160935</td>\n",
       "      <td>0.682353</td>\n",
       "      <td>0.513575</td>\n",
       "      <td>13.638914</td>\n",
       "      <td>10.856109</td>\n",
       "      <td>6.043137</td>\n",
       "      <td>4.769985</td>\n",
       "      <td>11.121719</td>\n",
       "      <td>11.567722</td>\n",
       "      <td>6.028808</td>\n",
       "      <td>4.754148</td>\n",
       "      <td>1.439367</td>\n",
       "      <td>1.742383</td>\n",
       "      <td>0.060935</td>\n",
       "      <td>0.084314</td>\n",
       "    </tr>\n",
       "    <tr>\n",
       "      <th>std</th>\n",
       "      <td>1.304606</td>\n",
       "      <td>1.150159</td>\n",
       "      <td>0.834198</td>\n",
       "      <td>0.729140</td>\n",
       "      <td>5.343723</td>\n",
       "      <td>4.681639</td>\n",
       "      <td>3.356067</td>\n",
       "      <td>2.829233</td>\n",
       "      <td>3.673440</td>\n",
       "      <td>3.828246</td>\n",
       "      <td>3.106825</td>\n",
       "      <td>2.726295</td>\n",
       "      <td>1.188846</td>\n",
       "      <td>1.269767</td>\n",
       "      <td>0.250323</td>\n",
       "      <td>0.289054</td>\n",
       "    </tr>\n",
       "    <tr>\n",
       "      <th>min</th>\n",
       "      <td>0.000000</td>\n",
       "      <td>0.000000</td>\n",
       "      <td>0.000000</td>\n",
       "      <td>0.000000</td>\n",
       "      <td>0.000000</td>\n",
       "      <td>0.000000</td>\n",
       "      <td>0.000000</td>\n",
       "      <td>0.000000</td>\n",
       "      <td>0.000000</td>\n",
       "      <td>1.000000</td>\n",
       "      <td>0.000000</td>\n",
       "      <td>0.000000</td>\n",
       "      <td>0.000000</td>\n",
       "      <td>0.000000</td>\n",
       "      <td>0.000000</td>\n",
       "      <td>0.000000</td>\n",
       "    </tr>\n",
       "    <tr>\n",
       "      <th>25%</th>\n",
       "      <td>1.000000</td>\n",
       "      <td>0.000000</td>\n",
       "      <td>0.000000</td>\n",
       "      <td>0.000000</td>\n",
       "      <td>10.000000</td>\n",
       "      <td>7.000000</td>\n",
       "      <td>4.000000</td>\n",
       "      <td>3.000000</td>\n",
       "      <td>9.000000</td>\n",
       "      <td>9.000000</td>\n",
       "      <td>4.000000</td>\n",
       "      <td>3.000000</td>\n",
       "      <td>1.000000</td>\n",
       "      <td>1.000000</td>\n",
       "      <td>0.000000</td>\n",
       "      <td>0.000000</td>\n",
       "    </tr>\n",
       "    <tr>\n",
       "      <th>50%</th>\n",
       "      <td>1.000000</td>\n",
       "      <td>1.000000</td>\n",
       "      <td>0.000000</td>\n",
       "      <td>0.000000</td>\n",
       "      <td>13.000000</td>\n",
       "      <td>10.000000</td>\n",
       "      <td>6.000000</td>\n",
       "      <td>4.000000</td>\n",
       "      <td>11.000000</td>\n",
       "      <td>11.000000</td>\n",
       "      <td>6.000000</td>\n",
       "      <td>4.000000</td>\n",
       "      <td>1.000000</td>\n",
       "      <td>2.000000</td>\n",
       "      <td>0.000000</td>\n",
       "      <td>0.000000</td>\n",
       "    </tr>\n",
       "    <tr>\n",
       "      <th>75%</th>\n",
       "      <td>2.000000</td>\n",
       "      <td>2.000000</td>\n",
       "      <td>1.000000</td>\n",
       "      <td>1.000000</td>\n",
       "      <td>17.000000</td>\n",
       "      <td>14.000000</td>\n",
       "      <td>8.000000</td>\n",
       "      <td>6.000000</td>\n",
       "      <td>13.000000</td>\n",
       "      <td>14.000000</td>\n",
       "      <td>8.000000</td>\n",
       "      <td>6.000000</td>\n",
       "      <td>2.000000</td>\n",
       "      <td>3.000000</td>\n",
       "      <td>0.000000</td>\n",
       "      <td>0.000000</td>\n",
       "    </tr>\n",
       "    <tr>\n",
       "      <th>max</th>\n",
       "      <td>9.000000</td>\n",
       "      <td>9.000000</td>\n",
       "      <td>5.000000</td>\n",
       "      <td>5.000000</td>\n",
       "      <td>43.000000</td>\n",
       "      <td>30.000000</td>\n",
       "      <td>24.000000</td>\n",
       "      <td>20.000000</td>\n",
       "      <td>33.000000</td>\n",
       "      <td>27.000000</td>\n",
       "      <td>20.000000</td>\n",
       "      <td>19.000000</td>\n",
       "      <td>7.000000</td>\n",
       "      <td>9.000000</td>\n",
       "      <td>3.000000</td>\n",
       "      <td>2.000000</td>\n",
       "    </tr>\n",
       "  </tbody>\n",
       "</table>\n",
       "</div>"
      ],
      "text/plain": [
       "       full_time_home_goals  full_time_away_goals  half_time_home_goals  \\\n",
       "count           6630.000000           6630.000000           6630.000000   \n",
       "mean               1.521116              1.160935              0.682353   \n",
       "std                1.304606              1.150159              0.834198   \n",
       "min                0.000000              0.000000              0.000000   \n",
       "25%                1.000000              0.000000              0.000000   \n",
       "50%                1.000000              1.000000              0.000000   \n",
       "75%                2.000000              2.000000              1.000000   \n",
       "max                9.000000              9.000000              5.000000   \n",
       "\n",
       "       half_time_away_goals   home_shots   away_shots  home_shots_on_target  \\\n",
       "count           6630.000000  6630.000000  6630.000000           6630.000000   \n",
       "mean               0.513575    13.638914    10.856109              6.043137   \n",
       "std                0.729140     5.343723     4.681639              3.356067   \n",
       "min                0.000000     0.000000     0.000000              0.000000   \n",
       "25%                0.000000    10.000000     7.000000              4.000000   \n",
       "50%                0.000000    13.000000    10.000000              6.000000   \n",
       "75%                1.000000    17.000000    14.000000              8.000000   \n",
       "max                5.000000    43.000000    30.000000             24.000000   \n",
       "\n",
       "       away_shots_on_target   home_fouls   away_fouls  home_corners  \\\n",
       "count           6630.000000  6630.000000  6630.000000   6630.000000   \n",
       "mean               4.769985    11.121719    11.567722      6.028808   \n",
       "std                2.829233     3.673440     3.828246      3.106825   \n",
       "min                0.000000     0.000000     1.000000      0.000000   \n",
       "25%                3.000000     9.000000     9.000000      4.000000   \n",
       "50%                4.000000    11.000000    11.000000      6.000000   \n",
       "75%                6.000000    13.000000    14.000000      8.000000   \n",
       "max               20.000000    33.000000    27.000000     20.000000   \n",
       "\n",
       "       away_corners  home_yellow_cards  away_yellow_cards  home_red_cards  \\\n",
       "count   6630.000000        6630.000000        6630.000000     6630.000000   \n",
       "mean       4.754148           1.439367           1.742383        0.060935   \n",
       "std        2.726295           1.188846           1.269767        0.250323   \n",
       "min        0.000000           0.000000           0.000000        0.000000   \n",
       "25%        3.000000           1.000000           1.000000        0.000000   \n",
       "50%        4.000000           1.000000           2.000000        0.000000   \n",
       "75%        6.000000           2.000000           3.000000        0.000000   \n",
       "max       19.000000           7.000000           9.000000        3.000000   \n",
       "\n",
       "       away_red_cards  \n",
       "count     6630.000000  \n",
       "mean         0.084314  \n",
       "std          0.289054  \n",
       "min          0.000000  \n",
       "25%          0.000000  \n",
       "50%          0.000000  \n",
       "75%          0.000000  \n",
       "max          2.000000  "
      ]
     },
     "execution_count": 6,
     "metadata": {},
     "output_type": "execute_result"
    }
   ],
   "source": [
    "# View some statistical information about the features we have\n",
    "data.describe()"
   ]
  },
  {
   "cell_type": "code",
   "execution_count": 7,
   "id": "3a46660d",
   "metadata": {},
   "outputs": [
    {
     "name": "stdout",
     "output_type": "stream",
     "text": [
      "Shape: (6630, 22)\n",
      "\n",
      "List of features: Index(['date', 'home_team', 'away_team', 'full_time_home_goals',\n",
      "       'full_time_away_goals', 'full_time_result', 'half_time_home_goals',\n",
      "       'half_time_away_goals', 'half_time_result', 'referee', 'home_shots',\n",
      "       'away_shots', 'home_shots_on_target', 'away_shots_on_target',\n",
      "       'home_fouls', 'away_fouls', 'home_corners', 'away_corners',\n",
      "       'home_yellow_cards', 'away_yellow_cards', 'home_red_cards',\n",
      "       'away_red_cards'],\n",
      "      dtype='object')\n",
      "\n",
      "Missing values: \n",
      "date                    0\n",
      "home_team               0\n",
      "away_team               0\n",
      "full_time_home_goals    0\n",
      "full_time_away_goals    0\n",
      "full_time_result        0\n",
      "half_time_home_goals    0\n",
      "half_time_away_goals    0\n",
      "half_time_result        0\n",
      "referee                 0\n",
      "home_shots              0\n",
      "away_shots              0\n",
      "home_shots_on_target    0\n",
      "away_shots_on_target    0\n",
      "home_fouls              0\n",
      "away_fouls              0\n",
      "home_corners            0\n",
      "away_corners            0\n",
      "home_yellow_cards       0\n",
      "away_yellow_cards       0\n",
      "home_red_cards          0\n",
      "away_red_cards          0\n",
      "dtype: int64\n"
     ]
    }
   ],
   "source": [
    "# View the size and shape of our training data\n",
    "print(f\"Shape: {data.shape}\\n\")\n",
    "\n",
    "# Display the list of features we have\n",
    "print(f\"List of features: {data.columns}\\n\")\n",
    "\n",
    "# Check for any missing values\n",
    "print(\"Missing values: \")\n",
    "print(data.isna().sum())"
   ]
  },
  {
   "cell_type": "markdown",
   "id": "c3684abf",
   "metadata": {},
   "source": [
    "From the dataframe and simple analysis above, there are several things we can observe:\n",
    "\n",
    "- There are 21 features (excluding `full_time_result`, which we are trying to predict) and 6630 samples\n",
    "- The features in our dataset involve both numerical and categorical value\n",
    "- The range of the numerical features in our dataset does not varies wildly\n",
    "- There are no missing data values in our dataset\n",
    "- We are dealing with a multi-class classification problem, where the output is either 'H', 'D', or 'A'\n",
    "\n",
    "Now, let's see whether we are dealing with imbalanced classification or not"
   ]
  },
  {
   "cell_type": "code",
   "execution_count": 8,
   "id": "8de7c6b5",
   "metadata": {},
   "outputs": [
    {
     "name": "stdout",
     "output_type": "stream",
     "text": [
      "Number of matches that resulted in a win by home team: 3026\n",
      "Number of matches that resulted in a draw: 1651\n",
      "Number of matches that resulted in a win by away team: 1953\n"
     ]
    }
   ],
   "source": [
    "# Find the total number of matches that result in either 'H', 'D', or 'A'\n",
    "home_win = len(data[data[\"full_time_result\"] == 'H'])\n",
    "draw = len(data[data[\"full_time_result\"] == 'D'])\n",
    "away_win = len(data[data[\"full_time_result\"] == 'A'])\n",
    "\n",
    "print(f\"Number of matches that resulted in a win by home team: {home_win}\")\n",
    "print(f\"Number of matches that resulted in a draw: {draw}\")\n",
    "print(f\"Number of matches that resulted in a win by away team: {away_win}\")"
   ]
  },
  {
   "cell_type": "markdown",
   "id": "994be29f",
   "metadata": {},
   "source": [
    "Yeah - it seems that we are dealing with an imbalanced classification problem where the result is skewed towards the home team winning. However, it's not too bad as compared to the brain stroke prediction challenge though. \n",
    "\n",
    "Now, let's investigate the test set that we are provided"
   ]
  },
  {
   "cell_type": "code",
   "execution_count": 9,
   "id": "b05d0b67",
   "metadata": {},
   "outputs": [
    {
     "data": {
      "text/html": [
       "<div>\n",
       "<style scoped>\n",
       "    .dataframe tbody tr th:only-of-type {\n",
       "        vertical-align: middle;\n",
       "    }\n",
       "\n",
       "    .dataframe tbody tr th {\n",
       "        vertical-align: top;\n",
       "    }\n",
       "\n",
       "    .dataframe thead th {\n",
       "        text-align: right;\n",
       "    }\n",
       "</style>\n",
       "<table border=\"1\" class=\"dataframe\">\n",
       "  <thead>\n",
       "    <tr style=\"text-align: right;\">\n",
       "      <th></th>\n",
       "      <th>date</th>\n",
       "      <th>home_team</th>\n",
       "      <th>away_team</th>\n",
       "      <th>half_time_home_goals</th>\n",
       "      <th>half_time_away_goals</th>\n",
       "      <th>half_time_result</th>\n",
       "      <th>referee</th>\n",
       "      <th>home_shots</th>\n",
       "      <th>away_shots</th>\n",
       "      <th>home_shots_on_target</th>\n",
       "      <th>away_shots_on_target</th>\n",
       "      <th>home_fouls</th>\n",
       "      <th>away_fouls</th>\n",
       "      <th>home_corners</th>\n",
       "      <th>away_corners</th>\n",
       "      <th>home_yellow_cards</th>\n",
       "      <th>away_yellow_cards</th>\n",
       "      <th>home_red_cards</th>\n",
       "      <th>away_red_cards</th>\n",
       "    </tr>\n",
       "  </thead>\n",
       "  <tbody>\n",
       "    <tr>\n",
       "      <th>0</th>\n",
       "      <td>2017-12-13</td>\n",
       "      <td>West Ham</td>\n",
       "      <td>Arsenal</td>\n",
       "      <td>0</td>\n",
       "      <td>0</td>\n",
       "      <td>D</td>\n",
       "      <td>J Moss</td>\n",
       "      <td>6</td>\n",
       "      <td>22</td>\n",
       "      <td>0</td>\n",
       "      <td>3</td>\n",
       "      <td>9</td>\n",
       "      <td>9</td>\n",
       "      <td>1</td>\n",
       "      <td>7</td>\n",
       "      <td>1</td>\n",
       "      <td>0</td>\n",
       "      <td>0</td>\n",
       "      <td>0</td>\n",
       "    </tr>\n",
       "    <tr>\n",
       "      <th>1</th>\n",
       "      <td>2004-02-21</td>\n",
       "      <td>Man United</td>\n",
       "      <td>Leeds</td>\n",
       "      <td>0</td>\n",
       "      <td>0</td>\n",
       "      <td>D</td>\n",
       "      <td>M Halsey</td>\n",
       "      <td>24</td>\n",
       "      <td>7</td>\n",
       "      <td>7</td>\n",
       "      <td>3</td>\n",
       "      <td>12</td>\n",
       "      <td>17</td>\n",
       "      <td>12</td>\n",
       "      <td>7</td>\n",
       "      <td>1</td>\n",
       "      <td>2</td>\n",
       "      <td>0</td>\n",
       "      <td>0</td>\n",
       "    </tr>\n",
       "    <tr>\n",
       "      <th>2</th>\n",
       "      <td>2009-02-23</td>\n",
       "      <td>Hull</td>\n",
       "      <td>Tottenham</td>\n",
       "      <td>1</td>\n",
       "      <td>1</td>\n",
       "      <td>D</td>\n",
       "      <td>L Probert</td>\n",
       "      <td>12</td>\n",
       "      <td>9</td>\n",
       "      <td>4</td>\n",
       "      <td>6</td>\n",
       "      <td>11</td>\n",
       "      <td>7</td>\n",
       "      <td>11</td>\n",
       "      <td>13</td>\n",
       "      <td>2</td>\n",
       "      <td>1</td>\n",
       "      <td>0</td>\n",
       "      <td>0</td>\n",
       "    </tr>\n",
       "    <tr>\n",
       "      <th>3</th>\n",
       "      <td>2017-12-03</td>\n",
       "      <td>Bournemouth</td>\n",
       "      <td>Southampton</td>\n",
       "      <td>1</td>\n",
       "      <td>0</td>\n",
       "      <td>H</td>\n",
       "      <td>J Moss</td>\n",
       "      <td>16</td>\n",
       "      <td>15</td>\n",
       "      <td>5</td>\n",
       "      <td>4</td>\n",
       "      <td>6</td>\n",
       "      <td>12</td>\n",
       "      <td>5</td>\n",
       "      <td>4</td>\n",
       "      <td>2</td>\n",
       "      <td>1</td>\n",
       "      <td>0</td>\n",
       "      <td>0</td>\n",
       "    </tr>\n",
       "    <tr>\n",
       "      <th>4</th>\n",
       "      <td>2014-01-18</td>\n",
       "      <td>Liverpool</td>\n",
       "      <td>Aston Villa</td>\n",
       "      <td>1</td>\n",
       "      <td>2</td>\n",
       "      <td>A</td>\n",
       "      <td>J Moss</td>\n",
       "      <td>14</td>\n",
       "      <td>12</td>\n",
       "      <td>6</td>\n",
       "      <td>3</td>\n",
       "      <td>14</td>\n",
       "      <td>18</td>\n",
       "      <td>2</td>\n",
       "      <td>3</td>\n",
       "      <td>1</td>\n",
       "      <td>4</td>\n",
       "      <td>0</td>\n",
       "      <td>0</td>\n",
       "    </tr>\n",
       "  </tbody>\n",
       "</table>\n",
       "</div>"
      ],
      "text/plain": [
       "         date    home_team    away_team  half_time_home_goals  \\\n",
       "0  2017-12-13     West Ham      Arsenal                     0   \n",
       "1  2004-02-21   Man United        Leeds                     0   \n",
       "2  2009-02-23         Hull    Tottenham                     1   \n",
       "3  2017-12-03  Bournemouth  Southampton                     1   \n",
       "4  2014-01-18    Liverpool  Aston Villa                     1   \n",
       "\n",
       "   half_time_away_goals half_time_result    referee  home_shots  away_shots  \\\n",
       "0                     0                D     J Moss           6          22   \n",
       "1                     0                D   M Halsey          24           7   \n",
       "2                     1                D  L Probert          12           9   \n",
       "3                     0                H     J Moss          16          15   \n",
       "4                     2                A     J Moss          14          12   \n",
       "\n",
       "   home_shots_on_target  away_shots_on_target  home_fouls  away_fouls  \\\n",
       "0                     0                     3           9           9   \n",
       "1                     7                     3          12          17   \n",
       "2                     4                     6          11           7   \n",
       "3                     5                     4           6          12   \n",
       "4                     6                     3          14          18   \n",
       "\n",
       "   home_corners  away_corners  home_yellow_cards  away_yellow_cards  \\\n",
       "0             1             7                  1                  0   \n",
       "1            12             7                  1                  2   \n",
       "2            11            13                  2                  1   \n",
       "3             5             4                  2                  1   \n",
       "4             2             3                  1                  4   \n",
       "\n",
       "   home_red_cards  away_red_cards  \n",
       "0               0               0  \n",
       "1               0               0  \n",
       "2               0               0  \n",
       "3               0               0  \n",
       "4               0               0  "
      ]
     },
     "execution_count": 9,
     "metadata": {},
     "output_type": "execute_result"
    }
   ],
   "source": [
    "# View the first 5 entries of our test set\n",
    "data_test.head()"
   ]
  },
  {
   "cell_type": "code",
   "execution_count": 10,
   "id": "ce2df63a",
   "metadata": {},
   "outputs": [
    {
     "name": "stdout",
     "output_type": "stream",
     "text": [
      "19\n"
     ]
    },
    {
     "data": {
      "text/plain": [
       "Index(['date', 'home_team', 'away_team', 'half_time_home_goals',\n",
       "       'half_time_away_goals', 'half_time_result', 'referee', 'home_shots',\n",
       "       'away_shots', 'home_shots_on_target', 'away_shots_on_target',\n",
       "       'home_fouls', 'away_fouls', 'home_corners', 'away_corners',\n",
       "       'home_yellow_cards', 'away_yellow_cards', 'home_red_cards',\n",
       "       'away_red_cards'],\n",
       "      dtype='object')"
      ]
     },
     "execution_count": 10,
     "metadata": {},
     "output_type": "execute_result"
    }
   ],
   "source": [
    "print(len(data_test.columns))\n",
    "data_test.columns"
   ]
  },
  {
   "cell_type": "markdown",
   "id": "57510237",
   "metadata": {},
   "source": [
    "Oopps! It seems that the feature for our testing set does not match with the feature that we have for our training data.\n",
    "\n",
    "We are now dealing with a problem/challenge with a different nature compared to the previous challenges we have in the past. Then, the question is how can we approach this problem? The simplest way of resolving this is by removing the feature that does not exist in both in the training and testing set"
   ]
  },
  {
   "cell_type": "markdown",
   "id": "c38c371c",
   "metadata": {},
   "source": [
    "## Data Visualisation\n",
    "\n",
    "In general, we know (although we cannot be certain) that team with a high shots on target will have a higher chance of winning.\n",
    "\n",
    "But, is this true? And does it apply to this dataset? We can verify this correlation by producing a plot of the number of shots made against the chance of winning."
   ]
  },
  {
   "cell_type": "code",
   "execution_count": 11,
   "id": "6f248f0a",
   "metadata": {},
   "outputs": [
    {
     "data": {
      "application/vnd.jupyter.widget-view+json": {
       "model_id": "68060074a0f34e1ea40dc6f18eb73c40",
       "version_major": 2,
       "version_minor": 0
      },
      "image/png": "[encoded data removed]",
      "text/html": [
       "\n",
       "            <div style=\"display: inline-block;\">\n",
       "                <div class=\"jupyter-widgets widget-label\" style=\"text-align: center;\">\n",
       "                    Figure\n",
       "                </div>\n",
       "                <img src='data:image/png;base64,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' width=1000.0/>\n",
       "            </div>\n",
       "        "
      ],
      "text/plain": [
       "Canvas(toolbar=Toolbar(toolitems=[('Home', 'Reset original view', 'home', 'home'), ('Back', 'Back to previous …"
      ]
     },
     "metadata": {},
     "output_type": "display_data"
    }
   ],
   "source": [
    "fig = plt.figure(figsize=(10, 5))\n",
    "ax0 = fig.add_subplot()\n",
    "\n",
    "# Calculate the chance of a team winning the match as a function of number of shots made\n",
    "rate = []\n",
    "for i in range(15):\n",
    "    totalMatch_home = data[data[\"home_shots_on_target\"] == i]\n",
    "    totalMatch_away = data[data[\"away_shots_on_target\"] == i]\n",
    "\n",
    "    winMatch_home = totalMatch_home[totalMatch_home[\"full_time_result\"] == \"H\"]\n",
    "    winMatch_away = totalMatch_away[totalMatch_away[\"full_time_result\"] == \"A\"]\n",
    "\n",
    "    win_rate = (len(winMatch_home) + len(winMatch_away))/(len(totalMatch_home) + len(totalMatch_away))\n",
    "\n",
    "    rate.append(win_rate)\n",
    "\n",
    "# Draw a lineplot\n",
    "sns.lineplot(data=rate, ax=ax0)\n",
    "\n",
    "# Remove the top, right, and left surrounding line for aesthetic purposes\n",
    "for s in [\"top\", \"right\", \"left\"]:\n",
    "    ax0.spines[s].set_visible(False)\n",
    "\n",
    "# Adjust the tick appearance for aesthetic purposes\n",
    "ax0.tick_params(axis=\"both\", which=\"major\", labelsize=8)\n",
    "ax0.tick_params(axis=\"both\", which=\"both\", length=0)\n",
    "\n",
    "# Add some text on the figure\n",
    "ax0.text(\n",
    "    -1,\n",
    "    0.75,\n",
    "    \"Chance of Winning against Number of Shots on Target\",\n",
    "    fontsize=16,\n",
    "    fontfamily=\"serif\",\n",
    "    fontweight=\"bold\",\n",
    ")\n",
    "ax0.text(\n",
    "    -1,\n",
    "    0.7,\n",
    "    \"As more number of shots on target made, the higher the chance of winning\",\n",
    "    fontsize=13,\n",
    "    fontfamily=\"serif\",\n",
    ")\n",
    "\n",
    "plt.show()\n"
   ]
  },
  {
   "cell_type": "markdown",
   "id": "d87d2df1",
   "metadata": {},
   "source": [
    "Yep - as expected, the higher the number of shots on target made, the higher the chance of a team winning the match. From this, it suggests that we should include the feature on number of shoots on target made by both home and away team as the input for our both training and testing set"
   ]
  },
  {
   "cell_type": "markdown",
   "id": "9df71f7b",
   "metadata": {},
   "source": [
    "## Data Preprocessing"
   ]
  },
  {
   "cell_type": "markdown",
   "id": "30a9b167",
   "metadata": {},
   "source": [
    "\n",
    "Okay, we have investigate our data, clean any missing data (which we don't really have), and do some visualisation. The next step for us is to prepare our data before we start to train it.\n",
    "\n",
    "\n"
   ]
  },
  {
   "cell_type": "markdown",
   "id": "e628145a",
   "metadata": {},
   "source": [
    "### Feature Encoding\n",
    "\n",
    "For this step, we will encode any categorical feature that we have (`home_team`, `away_team`, `referee`, `half_time_result`) into numerical feature which will allow our machine learning model to be trained."
   ]
  },
  {
   "cell_type": "code",
   "execution_count": 12,
   "id": "e18aa134",
   "metadata": {},
   "outputs": [],
   "source": [
    "# Encode categorical features using CategoricalEncoder() \n",
    "enc = OrdinalEncoder()\n",
    "data[[\"home_team\", \"away_team\", \"referee\", \"half_time_result\"]] = enc.fit_transform(\n",
    "    data[[\"home_team\", \"away_team\", \"referee\", \"half_time_result\"]]\n",
    ")"
   ]
  },
  {
   "cell_type": "markdown",
   "id": "f9144020",
   "metadata": {},
   "source": [
    "For our target, which is `full_time_result`, we will be using LabelEncoder() since it is the one recommended in Scikit-learn documentation"
   ]
  },
  {
   "cell_type": "code",
   "execution_count": 13,
   "id": "5c40f590",
   "metadata": {},
   "outputs": [
    {
     "data": {
      "text/plain": [
       "0       H\n",
       "1       H\n",
       "2       H\n",
       "3       H\n",
       "4       H\n",
       "       ..\n",
       "6625    H\n",
       "6626    H\n",
       "6627    H\n",
       "6628    A\n",
       "6629    A\n",
       "Name: full_time_result, Length: 6630, dtype: object"
      ]
     },
     "execution_count": 13,
     "metadata": {},
     "output_type": "execute_result"
    }
   ],
   "source": [
    "data[\"full_time_result\"]"
   ]
  },
  {
   "cell_type": "code",
   "execution_count": 14,
   "id": "a5377ac7",
   "metadata": {},
   "outputs": [],
   "source": [
    "# Encode target features using LabelEncoder() \n",
    "target_enc = LabelEncoder()\n",
    "data[\"full_time_result\"] = target_enc.fit_transform(\n",
    "    data[\"full_time_result\"]\n",
    ")"
   ]
  },
  {
   "cell_type": "markdown",
   "id": "5295fc64",
   "metadata": {},
   "source": [
    "For the `date`, the simplest way to deal with it is just to drop it"
   ]
  },
  {
   "cell_type": "code",
   "execution_count": 15,
   "id": "5732b012",
   "metadata": {},
   "outputs": [],
   "source": [
    "data.drop(columns=[\"date\"], inplace=True)"
   ]
  },
  {
   "cell_type": "code",
   "execution_count": 16,
   "id": "b58df9a9",
   "metadata": {},
   "outputs": [
    {
     "data": {
      "text/html": [
       "<div>\n",
       "<style scoped>\n",
       "    .dataframe tbody tr th:only-of-type {\n",
       "        vertical-align: middle;\n",
       "    }\n",
       "\n",
       "    .dataframe tbody tr th {\n",
       "        vertical-align: top;\n",
       "    }\n",
       "\n",
       "    .dataframe thead th {\n",
       "        text-align: right;\n",
       "    }\n",
       "</style>\n",
       "<table border=\"1\" class=\"dataframe\">\n",
       "  <thead>\n",
       "    <tr style=\"text-align: right;\">\n",
       "      <th></th>\n",
       "      <th>home_team</th>\n",
       "      <th>away_team</th>\n",
       "      <th>full_time_home_goals</th>\n",
       "      <th>full_time_away_goals</th>\n",
       "      <th>full_time_result</th>\n",
       "      <th>half_time_home_goals</th>\n",
       "      <th>half_time_away_goals</th>\n",
       "      <th>half_time_result</th>\n",
       "      <th>referee</th>\n",
       "      <th>home_shots</th>\n",
       "      <th>...</th>\n",
       "      <th>home_shots_on_target</th>\n",
       "      <th>away_shots_on_target</th>\n",
       "      <th>home_fouls</th>\n",
       "      <th>away_fouls</th>\n",
       "      <th>home_corners</th>\n",
       "      <th>away_corners</th>\n",
       "      <th>home_yellow_cards</th>\n",
       "      <th>away_yellow_cards</th>\n",
       "      <th>home_red_cards</th>\n",
       "      <th>away_red_cards</th>\n",
       "    </tr>\n",
       "  </thead>\n",
       "  <tbody>\n",
       "    <tr>\n",
       "      <th>0</th>\n",
       "      <td>0.0</td>\n",
       "      <td>15.0</td>\n",
       "      <td>2</td>\n",
       "      <td>1</td>\n",
       "      <td>2</td>\n",
       "      <td>1</td>\n",
       "      <td>0</td>\n",
       "      <td>2.0</td>\n",
       "      <td>32.0</td>\n",
       "      <td>11</td>\n",
       "      <td>...</td>\n",
       "      <td>5</td>\n",
       "      <td>7</td>\n",
       "      <td>8</td>\n",
       "      <td>15</td>\n",
       "      <td>6</td>\n",
       "      <td>9</td>\n",
       "      <td>1</td>\n",
       "      <td>3</td>\n",
       "      <td>1</td>\n",
       "      <td>1</td>\n",
       "    </tr>\n",
       "    <tr>\n",
       "      <th>1</th>\n",
       "      <td>16.0</td>\n",
       "      <td>24.0</td>\n",
       "      <td>3</td>\n",
       "      <td>2</td>\n",
       "      <td>2</td>\n",
       "      <td>1</td>\n",
       "      <td>1</td>\n",
       "      <td>1.0</td>\n",
       "      <td>16.0</td>\n",
       "      <td>17</td>\n",
       "      <td>...</td>\n",
       "      <td>9</td>\n",
       "      <td>5</td>\n",
       "      <td>18</td>\n",
       "      <td>16</td>\n",
       "      <td>7</td>\n",
       "      <td>6</td>\n",
       "      <td>1</td>\n",
       "      <td>1</td>\n",
       "      <td>0</td>\n",
       "      <td>0</td>\n",
       "    </tr>\n",
       "    <tr>\n",
       "      <th>2</th>\n",
       "      <td>2.0</td>\n",
       "      <td>36.0</td>\n",
       "      <td>1</td>\n",
       "      <td>0</td>\n",
       "      <td>2</td>\n",
       "      <td>1</td>\n",
       "      <td>0</td>\n",
       "      <td>2.0</td>\n",
       "      <td>53.0</td>\n",
       "      <td>10</td>\n",
       "      <td>...</td>\n",
       "      <td>5</td>\n",
       "      <td>7</td>\n",
       "      <td>20</td>\n",
       "      <td>27</td>\n",
       "      <td>1</td>\n",
       "      <td>4</td>\n",
       "      <td>3</td>\n",
       "      <td>5</td>\n",
       "      <td>0</td>\n",
       "      <td>0</td>\n",
       "    </tr>\n",
       "    <tr>\n",
       "      <th>3</th>\n",
       "      <td>28.0</td>\n",
       "      <td>1.0</td>\n",
       "      <td>2</td>\n",
       "      <td>1</td>\n",
       "      <td>2</td>\n",
       "      <td>1</td>\n",
       "      <td>0</td>\n",
       "      <td>2.0</td>\n",
       "      <td>15.0</td>\n",
       "      <td>4</td>\n",
       "      <td>...</td>\n",
       "      <td>3</td>\n",
       "      <td>5</td>\n",
       "      <td>18</td>\n",
       "      <td>22</td>\n",
       "      <td>7</td>\n",
       "      <td>9</td>\n",
       "      <td>2</td>\n",
       "      <td>1</td>\n",
       "      <td>0</td>\n",
       "      <td>1</td>\n",
       "    </tr>\n",
       "    <tr>\n",
       "      <th>4</th>\n",
       "      <td>23.0</td>\n",
       "      <td>5.0</td>\n",
       "      <td>4</td>\n",
       "      <td>0</td>\n",
       "      <td>2</td>\n",
       "      <td>1</td>\n",
       "      <td>0</td>\n",
       "      <td>2.0</td>\n",
       "      <td>45.0</td>\n",
       "      <td>13</td>\n",
       "      <td>...</td>\n",
       "      <td>6</td>\n",
       "      <td>5</td>\n",
       "      <td>12</td>\n",
       "      <td>8</td>\n",
       "      <td>8</td>\n",
       "      <td>4</td>\n",
       "      <td>0</td>\n",
       "      <td>4</td>\n",
       "      <td>0</td>\n",
       "      <td>0</td>\n",
       "    </tr>\n",
       "  </tbody>\n",
       "</table>\n",
       "<p>5 rows × 21 columns</p>\n",
       "</div>"
      ],
      "text/plain": [
       "   home_team  away_team  full_time_home_goals  full_time_away_goals  \\\n",
       "0        0.0       15.0                     2                     1   \n",
       "1       16.0       24.0                     3                     2   \n",
       "2        2.0       36.0                     1                     0   \n",
       "3       28.0        1.0                     2                     1   \n",
       "4       23.0        5.0                     4                     0   \n",
       "\n",
       "   full_time_result  half_time_home_goals  half_time_away_goals  \\\n",
       "0                 2                     1                     0   \n",
       "1                 2                     1                     1   \n",
       "2                 2                     1                     0   \n",
       "3                 2                     1                     0   \n",
       "4                 2                     1                     0   \n",
       "\n",
       "   half_time_result  referee  home_shots  ...  home_shots_on_target  \\\n",
       "0               2.0     32.0          11  ...                     5   \n",
       "1               1.0     16.0          17  ...                     9   \n",
       "2               2.0     53.0          10  ...                     5   \n",
       "3               2.0     15.0           4  ...                     3   \n",
       "4               2.0     45.0          13  ...                     6   \n",
       "\n",
       "   away_shots_on_target  home_fouls  away_fouls  home_corners  away_corners  \\\n",
       "0                     7           8          15             6             9   \n",
       "1                     5          18          16             7             6   \n",
       "2                     7          20          27             1             4   \n",
       "3                     5          18          22             7             9   \n",
       "4                     5          12           8             8             4   \n",
       "\n",
       "   home_yellow_cards  away_yellow_cards  home_red_cards  away_red_cards  \n",
       "0                  1                  3               1               1  \n",
       "1                  1                  1               0               0  \n",
       "2                  3                  5               0               0  \n",
       "3                  2                  1               0               1  \n",
       "4                  0                  4               0               0  \n",
       "\n",
       "[5 rows x 21 columns]"
      ]
     },
     "execution_count": 16,
     "metadata": {},
     "output_type": "execute_result"
    }
   ],
   "source": [
    "# Verify that our input features has been encoded\n",
    "data.head()"
   ]
  },
  {
   "cell_type": "markdown",
   "id": "a9cfa8d5",
   "metadata": {},
   "source": [
    "### Feature Standardization\n",
    "\n",
    "For standardising the range of our datasets, since the range of the numerical feature that we have does not vary that much, it does not matter very much for our model. So we can go both ways either doing it or not doing it."
   ]
  },
  {
   "cell_type": "code",
   "execution_count": 17,
   "id": "a1a6bca8",
   "metadata": {},
   "outputs": [],
   "source": [
    "# Add code on data standardization if you want"
   ]
  },
  {
   "cell_type": "markdown",
   "id": "18cd2858",
   "metadata": {},
   "source": [
    "### Feature Engineering\n",
    "\n",
    "Remember that the feature we have in the training set does not agree with the testing set, hence we need to do something with it.\n",
    "\n",
    "And the easiest thing to do is just to drop the feature that are not in the testing set"
   ]
  },
  {
   "cell_type": "code",
   "execution_count": 18,
   "id": "07c02eaf",
   "metadata": {},
   "outputs": [],
   "source": [
    "data.drop(columns=[\"full_time_home_goals\", \"full_time_away_goals\"], inplace=True)"
   ]
  },
  {
   "cell_type": "code",
   "execution_count": 19,
   "id": "642d8ea1",
   "metadata": {},
   "outputs": [
    {
     "data": {
      "text/html": [
       "<div>\n",
       "<style scoped>\n",
       "    .dataframe tbody tr th:only-of-type {\n",
       "        vertical-align: middle;\n",
       "    }\n",
       "\n",
       "    .dataframe tbody tr th {\n",
       "        vertical-align: top;\n",
       "    }\n",
       "\n",
       "    .dataframe thead th {\n",
       "        text-align: right;\n",
       "    }\n",
       "</style>\n",
       "<table border=\"1\" class=\"dataframe\">\n",
       "  <thead>\n",
       "    <tr style=\"text-align: right;\">\n",
       "      <th></th>\n",
       "      <th>home_team</th>\n",
       "      <th>away_team</th>\n",
       "      <th>full_time_result</th>\n",
       "      <th>half_time_home_goals</th>\n",
       "      <th>half_time_away_goals</th>\n",
       "      <th>half_time_result</th>\n",
       "      <th>referee</th>\n",
       "      <th>home_shots</th>\n",
       "      <th>away_shots</th>\n",
       "      <th>home_shots_on_target</th>\n",
       "      <th>away_shots_on_target</th>\n",
       "      <th>home_fouls</th>\n",
       "      <th>away_fouls</th>\n",
       "      <th>home_corners</th>\n",
       "      <th>away_corners</th>\n",
       "      <th>home_yellow_cards</th>\n",
       "      <th>away_yellow_cards</th>\n",
       "      <th>home_red_cards</th>\n",
       "      <th>away_red_cards</th>\n",
       "    </tr>\n",
       "  </thead>\n",
       "  <tbody>\n",
       "    <tr>\n",
       "      <th>0</th>\n",
       "      <td>0.0</td>\n",
       "      <td>15.0</td>\n",
       "      <td>2</td>\n",
       "      <td>1</td>\n",
       "      <td>0</td>\n",
       "      <td>2.0</td>\n",
       "      <td>32.0</td>\n",
       "      <td>11</td>\n",
       "      <td>13</td>\n",
       "      <td>5</td>\n",
       "      <td>7</td>\n",
       "      <td>8</td>\n",
       "      <td>15</td>\n",
       "      <td>6</td>\n",
       "      <td>9</td>\n",
       "      <td>1</td>\n",
       "      <td>3</td>\n",
       "      <td>1</td>\n",
       "      <td>1</td>\n",
       "    </tr>\n",
       "    <tr>\n",
       "      <th>1</th>\n",
       "      <td>16.0</td>\n",
       "      <td>24.0</td>\n",
       "      <td>2</td>\n",
       "      <td>1</td>\n",
       "      <td>1</td>\n",
       "      <td>1.0</td>\n",
       "      <td>16.0</td>\n",
       "      <td>17</td>\n",
       "      <td>8</td>\n",
       "      <td>9</td>\n",
       "      <td>5</td>\n",
       "      <td>18</td>\n",
       "      <td>16</td>\n",
       "      <td>7</td>\n",
       "      <td>6</td>\n",
       "      <td>1</td>\n",
       "      <td>1</td>\n",
       "      <td>0</td>\n",
       "      <td>0</td>\n",
       "    </tr>\n",
       "    <tr>\n",
       "      <th>2</th>\n",
       "      <td>2.0</td>\n",
       "      <td>36.0</td>\n",
       "      <td>2</td>\n",
       "      <td>1</td>\n",
       "      <td>0</td>\n",
       "      <td>2.0</td>\n",
       "      <td>53.0</td>\n",
       "      <td>10</td>\n",
       "      <td>15</td>\n",
       "      <td>5</td>\n",
       "      <td>7</td>\n",
       "      <td>20</td>\n",
       "      <td>27</td>\n",
       "      <td>1</td>\n",
       "      <td>4</td>\n",
       "      <td>3</td>\n",
       "      <td>5</td>\n",
       "      <td>0</td>\n",
       "      <td>0</td>\n",
       "    </tr>\n",
       "    <tr>\n",
       "      <th>3</th>\n",
       "      <td>28.0</td>\n",
       "      <td>1.0</td>\n",
       "      <td>2</td>\n",
       "      <td>1</td>\n",
       "      <td>0</td>\n",
       "      <td>2.0</td>\n",
       "      <td>15.0</td>\n",
       "      <td>4</td>\n",
       "      <td>9</td>\n",
       "      <td>3</td>\n",
       "      <td>5</td>\n",
       "      <td>18</td>\n",
       "      <td>22</td>\n",
       "      <td>7</td>\n",
       "      <td>9</td>\n",
       "      <td>2</td>\n",
       "      <td>1</td>\n",
       "      <td>0</td>\n",
       "      <td>1</td>\n",
       "    </tr>\n",
       "    <tr>\n",
       "      <th>4</th>\n",
       "      <td>23.0</td>\n",
       "      <td>5.0</td>\n",
       "      <td>2</td>\n",
       "      <td>1</td>\n",
       "      <td>0</td>\n",
       "      <td>2.0</td>\n",
       "      <td>45.0</td>\n",
       "      <td>13</td>\n",
       "      <td>15</td>\n",
       "      <td>6</td>\n",
       "      <td>5</td>\n",
       "      <td>12</td>\n",
       "      <td>8</td>\n",
       "      <td>8</td>\n",
       "      <td>4</td>\n",
       "      <td>0</td>\n",
       "      <td>4</td>\n",
       "      <td>0</td>\n",
       "      <td>0</td>\n",
       "    </tr>\n",
       "  </tbody>\n",
       "</table>\n",
       "</div>"
      ],
      "text/plain": [
       "   home_team  away_team  full_time_result  half_time_home_goals  \\\n",
       "0        0.0       15.0                 2                     1   \n",
       "1       16.0       24.0                 2                     1   \n",
       "2        2.0       36.0                 2                     1   \n",
       "3       28.0        1.0                 2                     1   \n",
       "4       23.0        5.0                 2                     1   \n",
       "\n",
       "   half_time_away_goals  half_time_result  referee  home_shots  away_shots  \\\n",
       "0                     0               2.0     32.0          11          13   \n",
       "1                     1               1.0     16.0          17           8   \n",
       "2                     0               2.0     53.0          10          15   \n",
       "3                     0               2.0     15.0           4           9   \n",
       "4                     0               2.0     45.0          13          15   \n",
       "\n",
       "   home_shots_on_target  away_shots_on_target  home_fouls  away_fouls  \\\n",
       "0                     5                     7           8          15   \n",
       "1                     9                     5          18          16   \n",
       "2                     5                     7          20          27   \n",
       "3                     3                     5          18          22   \n",
       "4                     6                     5          12           8   \n",
       "\n",
       "   home_corners  away_corners  home_yellow_cards  away_yellow_cards  \\\n",
       "0             6             9                  1                  3   \n",
       "1             7             6                  1                  1   \n",
       "2             1             4                  3                  5   \n",
       "3             7             9                  2                  1   \n",
       "4             8             4                  0                  4   \n",
       "\n",
       "   home_red_cards  away_red_cards  \n",
       "0               1               1  \n",
       "1               0               0  \n",
       "2               0               0  \n",
       "3               0               1  \n",
       "4               0               0  "
      ]
     },
     "execution_count": 19,
     "metadata": {},
     "output_type": "execute_result"
    }
   ],
   "source": [
    "data.head()"
   ]
  },
  {
   "cell_type": "markdown",
   "id": "7f8eb960",
   "metadata": {},
   "source": [
    "### Final Preprocessing Step\n",
    "Now that our data has been standardised and all our features are numerical, we are very close to training our first machine learning model.\n",
    "\n",
    "All that is left to do is the following:\n",
    "\n",
    "1. **Separate the input features and the output label**: this is an important requirement when training our dataset - we don't want to train our `scikit-learn` models on the data we are trying to predict!\n",
    "\n",
    "2. **Split our data into training and test sets**: the training set is the dataset on which our models will be trained. After training our models, we then test them on our newly created test set.\n",
    "\n",
    "We will use the **empirical error** from evaluating our models on the test set as a proxy for the **generalisation error**: a measure of how accurately an algorithm can predict outcomes for unseen data (which is what we are trying to do eventually!). It will also provide us with a useful tool for comparing the different models we have trained so that we can decide which model to use for our submission to DOXA. Bam!"
   ]
  },
  {
   "cell_type": "code",
   "execution_count": 20,
   "id": "5d515820",
   "metadata": {},
   "outputs": [],
   "source": [
    "# Separate our data into X, which contains all the features in our dataset and y, which contains only the output/label (stroke)\n",
    "X = data.drop(columns=[\"full_time_result\"])\n",
    "y = data[\"full_time_result\"]"
   ]
  },
  {
   "cell_type": "code",
   "execution_count": 21,
   "id": "02d834ef",
   "metadata": {},
   "outputs": [
    {
     "name": "stdout",
     "output_type": "stream",
     "text": [
      "(6630, 18)\n",
      "(6630,)\n"
     ]
    }
   ],
   "source": [
    "# Verify that we have correctly separated the features and the output by looking at the shape of X and y\n",
    "print(X.shape)\n",
    "print(y.shape)"
   ]
  },
  {
   "cell_type": "code",
   "execution_count": 22,
   "id": "9f22b542",
   "metadata": {},
   "outputs": [],
   "source": [
    "# Split our features and output into a training set and a test set\n",
    "X_train, X_valid, y_train, y_valid = train_test_split(X, y, test_size=0.2)\n",
    "\n",
    "# In this case, the test_size parameter is equal to 0.2, so our test set will \n",
    "# have 20% the data, while the training set will have the other 80% of the data"
   ]
  },
  {
   "cell_type": "code",
   "execution_count": 23,
   "id": "6b2f240d",
   "metadata": {},
   "outputs": [
    {
     "name": "stdout",
     "output_type": "stream",
     "text": [
      "Shape of X_train: (5304, 18)\n",
      "Shape of X_valid: (1326, 18)\n",
      "Shape of y_train: (5304,)\n",
      "Shape of y_valid: (1326,)\n"
     ]
    }
   ],
   "source": [
    "# Verify that the operation ran as intended by checking the shape of the splitted dataset\n",
    "print(f\"Shape of X_train: {X_train.shape}\")\n",
    "print(f\"Shape of X_valid: {X_valid.shape}\")\n",
    "print(f\"Shape of y_train: {y_train.shape}\")\n",
    "print(f\"Shape of y_valid: {y_valid.shape}\")"
   ]
  },
  {
   "cell_type": "markdown",
   "id": "4b3fb031",
   "metadata": {},
   "source": [
    "## Model Training\n",
    "\n",
    "This is where the magic begins. As an example, we will be training our dataset by using three different models and choosing the best model for submission later. The models we will be testing out are [logistic regression models](https://scikit-learn.org/stable/modules/generated/sklearn.linear_model.LogisticRegression.html), [support vector machines](https://scikit-learn.org/stable/modules/generated/sklearn.svm.SVC.html) and [decision trees](https://scikit-learn.org/stable/modules/generated/sklearn.tree.DecisionTreeClassifier.html). \n",
    "\n",
    "Bear in mind that each of the different types of model has its own set of hyperparameters that you can tune to improve performance. Do check out the documentation for each type of model!"
   ]
  },
  {
   "cell_type": "code",
   "execution_count": null,
   "id": "dfa8e38e",
   "metadata": {},
   "outputs": [],
   "source": [
    "clf_lr = LogisticRegression()\n",
    "clf_lr.fit(X=X_train, y=y_train)\n",
    "\n",
    "clf_svm = SVC()\n",
    "clf_svm.fit(X=X_train, y=y_train)\n",
    "\n",
    "clf_tree = DecisionTreeClassifier()\n",
    "clf_tree.fit(X=X_train, y=y_train)"
   ]
  },
  {
   "cell_type": "markdown",
   "id": "549a27ba",
   "metadata": {},
   "source": [
    "## Model Testing\n",
    "Now that we have trained our machine learning models, we can test them on our test set"
   ]
  },
  {
   "cell_type": "code",
   "execution_count": 25,
   "id": "b55b2bf2",
   "metadata": {},
   "outputs": [],
   "source": [
    "# Use the .predict() method to predict output values for our test set\n",
    "lr_predicted = clf_lr.predict(X_valid)\n",
    "svm_predicted = clf_svm.predict(X_valid)\n",
    "tree_predicted = clf_tree.predict(X_valid)"
   ]
  },
  {
   "cell_type": "markdown",
   "id": "2f1a8d08",
   "metadata": {},
   "source": [
    "For our evaluation metrics, we will be using a different metrics called F1-Score instead of accuracy metrics. \n",
    "\n",
    "**Why not using Accuracy Metrics?**\n",
    "\n",
    "On the first UCLAIS Tutorial Challenge, you might have seen how accuracy can be very misleading, as it gives a bad model (which basically predicts every patient as not having cancer) a great score. From this, we know that accuracy metrics is not really suitable for dataset that consists of imbalanced dataset. Hence, we need a better metrics that can evaluate imbalanced dataset more objectively. And this is where F1-score comes in handy\n",
    "\n",
    "\n",
    "Before going into understanding what is F1 score, we need to understand what precision and recall is first"
   ]
  },
  {
   "cell_type": "markdown",
   "id": "6aba9d53",
   "metadata": {},
   "source": [
    "### Precision and Recall\n",
    "\n",
    "\\begin{equation*}\n",
    "    \\text{Precision} = \\frac{TP}{TP + FP}\n",
    "\\end{equation*}\n",
    "\n",
    "**Precision**: The fraction of true positive examples among the examples that the model classified as positive. Or in other words, Within everything that has been predicted as a positive, precision counts the percentage that is correct\n",
    "\n",
    "\\begin{equation*}\n",
    "    \\text{Recall} = \\frac{TP}{TP + FN}\n",
    "\\end{equation*}\n",
    "\n",
    "**Recall**: The fraction of true positive examples among the examples that the model classified as positive. Or in other words, within everything that actually is positive, how many did the model succeed to find\n",
    "\n",
    "A **True Positive (TP)** is an outcome where the model correctly predicts the positive class. Similarly, a **True Negative (TN)** is an outcome where the model correctly predicts the negative class.\n",
    "\n",
    "A **False Positive (FP)** is an outcome where the model incorrectly predicts the positive class. And a **False Negative (FN)** is an outcome where the model incorrectly predicts the negative class."
   ]
  },
  {
   "cell_type": "markdown",
   "id": "e89fbf1c",
   "metadata": {},
   "source": [
    "### F1-Score\n",
    "\n",
    "\\begin{equation*}\n",
    "    \\text{F1-score} = 2 \\times \\frac{\\text{Precision} \\times \\text{Recall}}{\\text{Precision} + \\text{Recall}}\n",
    "\\end{equation*}\n",
    "\n",
    "The F-score, also called the F1-score, is a measure of a model’s accuracy on a dataset. It is used to evaluate classification systems, which classify examples into ‘positive’ or ‘negative’.\n",
    "\n",
    "The F1-score is a way of combining the precision and recall of the model, and it is defined as the harmonic mean of the model’s precision and recall.\n",
    "\n",
    "F1 score take into account not only the number of prediction errors that our model makes, but also look at the type of errors that are made, either it is a False Positive or a False Negative, which can be useful in evaluating imbalanced dataset\n"
   ]
  },
  {
   "cell_type": "markdown",
   "id": "615b91c0",
   "metadata": {},
   "source": [
    "### Evaluate our trained model using F1-Score"
   ]
  },
  {
   "cell_type": "code",
   "execution_count": 26,
   "id": "efbebd3c",
   "metadata": {},
   "outputs": [
    {
     "name": "stdout",
     "output_type": "stream",
     "text": [
      "Accuracy (Logistic Regression):  0.6508295625942685\n",
      "Accuracy (SVM):  0.6319758672699849\n",
      "Accuracy (Decision Tree):  0.5678733031674208\n"
     ]
    }
   ],
   "source": [
    "# We will be using the accuracy_score() function as our evaluation metric, which simply calculates \n",
    "# the number of predictions that are correct and divides it by the total number of predictions.\n",
    "lr_accuracy = f1_score(lr_predicted, y_valid, average=\"micro\")\n",
    "svm_accuracy = f1_score(svm_predicted, y_valid, average=\"micro\")\n",
    "tree_accuracy = f1_score(tree_predicted, y_valid, average=\"micro\")\n",
    "\n",
    "print(\"Accuracy (Logistic Regression): \", lr_accuracy)\n",
    "print(\"Accuracy (SVM): \", svm_accuracy)\n",
    "print(\"Accuracy (Decision Tree): \", tree_accuracy)"
   ]
  },
  {
   "cell_type": "markdown",
   "id": "8c5a3750",
   "metadata": {},
   "source": [
    "Neat! We can see that the Logistic Regression model performed the best (~65% F1-score) compared to SVM and decision tree (~62% and ~56% F1-score respectively).\n",
    "Let's have a look on its confusion matrix"
   ]
  },
  {
   "cell_type": "code",
   "execution_count": 27,
   "id": "ec4b9c9b",
   "metadata": {},
   "outputs": [
    {
     "name": "stdout",
     "output_type": "stream",
     "text": [
      "\n",
      "Confusion Matrix (Decision Tree)\n",
      "<sklearn.metrics._plot.confusion_matrix.ConfusionMatrixDisplay object at 0x288449910>\n"
     ]
    },
    {
     "data": {
      "application/vnd.jupyter.widget-view+json": {
       "model_id": "ca86f41653d9428087e34a9355d4e5a2",
       "version_major": 2,
       "version_minor": 0
      },
      "image/png": "[encoded data removed]",
      "text/html": [
       "\n",
       "            <div style=\"display: inline-block;\">\n",
       "                <div class=\"jupyter-widgets widget-label\" style=\"text-align: center;\">\n",
       "                    Figure\n",
       "                </div>\n",
       "                <img src='data:image/png;base64,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' width=640.0/>\n",
       "            </div>\n",
       "        "
      ],
      "text/plain": [
       "Canvas(toolbar=Toolbar(toolitems=[('Home', 'Reset original view', 'home', 'home'), ('Back', 'Back to previous …"
      ]
     },
     "metadata": {},
     "output_type": "display_data"
    }
   ],
   "source": [
    "print(\"\\nConfusion Matrix (Decision Tree)\")\n",
    "print(ConfusionMatrixDisplay.from_predictions(y_true=y_valid, y_pred=lr_predicted))"
   ]
  },
  {
   "cell_type": "markdown",
   "id": "1ebea8d0",
   "metadata": {},
   "source": [
    "Now, let's put things back into perspective. A predictive performance of 62% is quite fantastic. Plus, we can definitely be rich if we go into betting machine/platform and use our model to identify which team has a higher chance of winning.\n",
    "\n",
    "However, bear in mind that the input features that we have for our test set composed of the statistics that we can only know after a match has ended, such as the number of shots on target made, the number of yellow cards given, etc.\n",
    "\n",
    "Hence, in theory, we are not ready yet for putting our model into the real world, and our current model would actually have performed worse when being tested on the real world data"
   ]
  },
  {
   "cell_type": "markdown",
   "id": "6625802f",
   "metadata": {},
   "source": [
    "## Preparing our DOXA Submission\n",
    "\n",
    "Once we are confident with the performance of our model, we can start deploying it on the real test dataset for submission to DOXA! "
   ]
  },
  {
   "cell_type": "code",
   "execution_count": 28,
   "id": "a36c539c",
   "metadata": {},
   "outputs": [],
   "source": [
    "# First, let's see the testing set that we have\n",
    "data_test = pd.read_csv(\"./data/test.csv\")          # Change the path accordingly "
   ]
  },
  {
   "cell_type": "markdown",
   "id": "de9e8383",
   "metadata": {},
   "source": [
    "Then, we must preprocess the dataset before feeding it into the trained model. The preprocessing steps include: \n",
    "    \n",
    "1. Converting categorical data into numerical data\n",
    "2. Dropping the `date` feature"
   ]
  },
  {
   "cell_type": "code",
   "execution_count": 29,
   "id": "a564d3e1",
   "metadata": {},
   "outputs": [],
   "source": [
    "# Encode categorical features using CategoricalEncoder() \n",
    "data_test[[\"home_team\", \"away_team\", \"referee\", \"half_time_result\"]] = enc.fit_transform(\n",
    "    data_test[[\"home_team\", \"away_team\", \"referee\", \"half_time_result\"]]\n",
    ")"
   ]
  },
  {
   "cell_type": "code",
   "execution_count": 30,
   "id": "add2d754",
   "metadata": {},
   "outputs": [],
   "source": [
    "# Drop the date from our test set\n",
    "data_test.drop(columns=[\"date\"], inplace=True)"
   ]
  },
  {
   "cell_type": "markdown",
   "id": "d31ad530",
   "metadata": {},
   "source": [
    "Once we have redone all the preprocessing stages, we can proceed to do inference on the DOXA submission test dataset."
   ]
  },
  {
   "cell_type": "code",
   "execution_count": 31,
   "id": "753a94e3",
   "metadata": {},
   "outputs": [],
   "source": [
    "labels = target_enc.classes_"
   ]
  },
  {
   "cell_type": "code",
   "execution_count": 32,
   "id": "034bd178",
   "metadata": {},
   "outputs": [
    {
     "data": {
      "text/plain": [
       "array(['A', 'D', 'H'], dtype=object)"
      ]
     },
     "execution_count": 32,
     "metadata": {},
     "output_type": "execute_result"
    }
   ],
   "source": [
    "labels"
   ]
  },
  {
   "cell_type": "code",
   "execution_count": 33,
   "id": "99225ece",
   "metadata": {},
   "outputs": [
    {
     "data": {
      "text/plain": [
       "array([0, 2, 0, 2, 0, 2, 2, 2, 1, 0, 2, 0, 2, 2, 2, 2, 2, 2, 0, 2])"
      ]
     },
     "execution_count": 33,
     "metadata": {},
     "output_type": "execute_result"
    }
   ],
   "source": [
    "# We will choose the logistic regression model\n",
    "predictions = clf_lr.predict(data_test)\n",
    "\n",
    "# Let's have a look at the first 20 predictions\n",
    "predictions[:20]"
   ]
  },
  {
   "cell_type": "code",
   "execution_count": 34,
   "id": "803c5245",
   "metadata": {},
   "outputs": [
    {
     "data": {
      "text/plain": [
       "array(['A', 'H', 'A', 'H', 'A', 'H', 'H', 'H', 'D', 'A', 'H', 'A', 'H',\n",
       "       'H', 'H', 'H', 'H', 'H', 'A', 'H'], dtype=object)"
      ]
     },
     "execution_count": 34,
     "metadata": {},
     "output_type": "execute_result"
    }
   ],
   "source": [
    "# Since we need to provide an output of either 'H', 'D', or 'A', \n",
    "# we need to decode back our prediction into its corresponding label\n",
    "predictions = target_enc.inverse_transform(predictions)\n",
    "\n",
    "# Let's have a look at the label of the first 20 predictions\n",
    "predictions[:20]"
   ]
  },
  {
   "cell_type": "code",
   "execution_count": 35,
   "id": "be123a85",
   "metadata": {},
   "outputs": [
    {
     "data": {
      "text/plain": [
       "(736,)"
      ]
     },
     "execution_count": 35,
     "metadata": {},
     "output_type": "execute_result"
    }
   ],
   "source": [
    "predictions.shape"
   ]
  },
  {
   "cell_type": "markdown",
   "id": "61b50f88",
   "metadata": {},
   "source": [
    "It seems that the output is the shape it should be, having 736 entries, so we are now ready to submit our predictions. "
   ]
  },
  {
   "cell_type": "code",
   "execution_count": 36,
   "id": "4d31ba29",
   "metadata": {},
   "outputs": [],
   "source": [
    "os.makedirs(\"submission\", exist_ok=True)\n",
    "\n",
    "with open(\"submission/y.txt\", \"w\") as f:\n",
    "    f.writelines([f\"{prediction}\\n\" for prediction in predictions])\n",
    "\n",
    "with open(\"submission/doxa.yaml\", \"w\") as f:\n",
    "    f.write(\"competition: epl\\nenvironment: cpu\\nlanguage: python\\nentrypoint: run.py\")\n",
    "\n",
    "with open(\"submission/run.py\", \"w\") as f:\n",
    "    f.write(\"with open('y.txt', 'r') as f: print(f.read().strip())\")\n"
   ]
  },
  {
   "cell_type": "markdown",
   "id": "5a812a40",
   "metadata": {},
   "source": [
    "## Submitting to DOXA\n",
    "\n",
    "Before you can submit to DOXA, you must first ensure that you are enrolled for the challenge on the DOXA website. Visit [the challenge page](https://doxaai.com/competition/uclais-1) and click \"Enrol\" in the top-right corner.\n",
    "\n",
    "You can then log in using the DOXA CLI by running the following command:"
   ]
  },
  {
   "cell_type": "code",
   "execution_count": null,
   "id": "5c4c2657",
   "metadata": {},
   "outputs": [],
   "source": [
    "!doxa login"
   ]
  },
  {
   "cell_type": "markdown",
   "id": "2e443437",
   "metadata": {},
   "source": [
    "You can then submit your results to DOXA by running the following command:"
   ]
  },
  {
   "cell_type": "code",
   "execution_count": null,
   "id": "34c96e65",
   "metadata": {},
   "outputs": [],
   "source": [
    "!doxa upload submission"
   ]
  },
  {
   "cell_type": "markdown",
   "id": "661cbd4f",
   "metadata": {},
   "source": [
    "Yay! You have (probably) uploaded your submission to DOXA for the EPL prediction competition! Take a moment to see where you are on the [scoreboard](https://doxaai.com/competition/uclais-3)!"
   ]
  },
  {
   "cell_type": "markdown",
   "id": "037dbe48",
   "metadata": {},
   "source": [
    "## Possible Improvements"
   ]
  },
  {
   "cell_type": "markdown",
   "id": "e3c8c565",
   "metadata": {},
   "source": [
    "Our model is not that good at predicting stroke since it mainly just outputs 0, so there is definitely scope for improvement! Here are a few ways we could improve the process:\n",
    "\n",
    "**1. Data Visualisation**\n",
    "- Visualise other features as well (rather than just shots on target) to see what other features correlate with the chance of a team winning. If the feature that we visualised seems not to have a strong correlation with the chance of winning, we might as well remove it. We could potentially produce a correlation matrix.\n",
    "\n",
    "\n",
    "**2. Data Preprocessing**\n",
    "- Apply the [PCA algorithm](https://scikit-learn.org/stable/modules/generated/sklearn.decomposition.PCA.html), which will reduce the number of input features to a smaller subset that matters more to us. We choose `n` input features that have the highest orthogonality, where `n` is a hyperparameter, so tuning needs to be done to get the best performance.\n",
    "\n",
    "- Have a look on implementing [Elo rating](https://blog.collegefootballdata.com/talking-tech-elo-ratings/), or maybe try to implement some sort of defense and attack rating for each team which measures how likely a team to score or concede a goal.\n",
    "\n",
    "- If you want to go further, you can add more data to your model. Perhaps including individual rating attained from [Fantasy Football](https://fantasy.premierleague.com/statistics), or explicity encode the result of last 5 matches for both home and away team? The possibility here is endless.\n",
    "\n",
    "**3. Model Selection**\n",
    "- In our example, we have looked at implementing [logistic regression models](https://scikit-learn.org/stable/modules/generated/sklearn.linear_model.LogisticRegression.html#sklearn.linear_model.LogisticRegression), [support vector machines](https://scikit-learn.org/stable/modules/generated/sklearn.svm.SVC.html) and [decision trees](https://scikit-learn.org/stable/modules/generated/sklearn.tree.DecisionTreeClassifier.html). Each of these models has its own set of hyperparameters that you can tune to improve model performance. The link will bring you to the documentation page of `scikit-learn` where you can discover more about the hyperparameters of each type of model.\n",
    "- On top of that, there are many more machine learning model types that you can try out and see whether accuracy improves or not. Indeed, there are even ensemble methods that use multiple machine learning models under the hood! Why not try implementing [Gradient Boosting](https://scikit-learn.org/stable/modules/generated/sklearn.ensemble.GradientBoostingClassifier.html)?\n",
    "- If you look at the different machine learning models being imported at the start of the notebook, you will notice that there are quite a few which have not been used. This might be a good starting point!\n",
    "\n",
    "And perhaps, many more..."
   ]
  },
  {
   "cell_type": "markdown",
   "id": "36ae1ecc",
   "metadata": {},
   "source": []
  }
 ],
 "metadata": {
  "kernelspec": {
   "display_name": "Python 3.9.10 ('ClimateHack')",
   "language": "python",
   "name": "python3"
  },
  "language_info": {
   "codemirror_mode": {
    "name": "ipython",
    "version": 3
   },
   "file_extension": ".py",
   "mimetype": "text/x-python",
   "name": "python",
   "nbconvert_exporter": "python",
   "pygments_lexer": "ipython3",
   "version": "3.9.10"
  },
  "vscode": {
   "interpreter": {
    "hash": "11841742d11f96be4de93e6e6c2ae1e3a22839abf86213b3c23c4bf0c62307b4"
   }
  }
 },
 "nbformat": 4,
 "nbformat_minor": 5
}
