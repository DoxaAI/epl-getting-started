{
 "cells": [
  {
   "cell_type": "markdown",
   "id": "75de2404",
   "metadata": {},
   "source": [
    "# Premier League Historical Match Result Prediction\n",
    "\n",
    "If you do not already have a DOXA account, you will want to [sign up](https://doxaai.com/sign-up) first before proceeding and then make sure you are enrolled on the [DOXA challenge page](https://doxaai.com/competition/epl)."
   ]
  },
  {
   "cell_type": "markdown",
   "id": "954cea8e",
   "metadata": {},
   "source": [
    "## Installing and Importing Useful Packages"
   ]
  },
  {
   "cell_type": "code",
   "execution_count": null,
   "id": "8ecb8a5f",
   "metadata": {},
   "outputs": [],
   "source": [
    "%pip install numpy pandas matplotlib seaborn scikit-learn"
   ]
  },
  {
   "cell_type": "code",
   "execution_count": null,
   "id": "e5ecdc0b",
   "metadata": {},
   "outputs": [],
   "source": [
    "import os\n",
    "\n",
    "import matplotlib.pyplot as plt\n",
    "import numpy as np\n",
    "import pandas as pd\n",
    "import seaborn as sns\n",
    "\n",
    "# Import potentially useful scikit-learn modules\n",
    "from sklearn.compose import make_column_transformer\n",
    "from sklearn.decomposition import PCA\n",
    "from sklearn.ensemble import (\n",
    "    BaggingClassifier,\n",
    "    GradientBoostingClassifier,\n",
    "    RandomForestClassifier,\n",
    ")\n",
    "from sklearn.linear_model import ElasticNet, Lasso, LinearRegression, LogisticRegression\n",
    "from sklearn.metrics import ConfusionMatrixDisplay, accuracy_score, f1_score\n",
    "from sklearn.model_selection import GridSearchCV, cross_val_predict, train_test_split\n",
    "from sklearn.preprocessing import (\n",
    "    LabelEncoder,\n",
    "    MinMaxScaler,\n",
    "    OneHotEncoder,\n",
    "    OrdinalEncoder,\n",
    "    PolynomialFeatures,\n",
    "    StandardScaler,\n",
    ")\n",
    "from sklearn.svm import SVC, SVR, LinearSVC, NuSVC\n",
    "from sklearn.tree import DecisionTreeClassifier, DecisionTreeRegressor\n",
    "\n",
    "pd.set_option(\"display.max_colwidth\", None)\n",
    "\n",
    "%matplotlib widget"
   ]
  },
  {
   "cell_type": "markdown",
   "id": "47e7a4a0",
   "metadata": {},
   "source": [
    "## Data Loading"
   ]
  },
  {
   "cell_type": "code",
   "execution_count": null,
   "id": "3b3822f6",
   "metadata": {},
   "outputs": [],
   "source": [
    "# Download the dataset if we don't already have it!\n",
    "if not os.path.exists(\"data\"):\n",
    "    os.makedirs(\"data\", exist_ok=True)\n",
    "\n",
    "    !curl https://raw.githubusercontent.com/DoxaAI/epl-getting-started/data/train.csv --output data/train.csv\n",
    "    !curl https://raw.githubusercontent.com/DoxaAI/epl-getting-started/data/test.csv --output data/test.csv"
   ]
  },
  {
   "cell_type": "code",
   "execution_count": null,
   "id": "5c1be89f",
   "metadata": {},
   "outputs": [],
   "source": [
    "# Import the training dataset\n",
    "train_df_original = pd.read_csv(\n",
    "    \"./data/train.csv\", parse_dates=[\"date\"]\n",
    ")  # Change the path accordingly\n",
    "\n",
    "# Import the testing dataset\n",
    "test_df = pd.read_csv(\n",
    "    \"./data/test.csv\", parse_dates=[\"date\"]\n",
    ")  # Change the path accordingly"
   ]
  },
  {
   "cell_type": "code",
   "execution_count": null,
   "id": "86fce303",
   "metadata": {},
   "outputs": [],
   "source": [
    "# Make an in-memory copy of the training set to experiment with\n",
    "train_df = train_df_original.copy()"
   ]
  },
  {
   "cell_type": "markdown",
   "id": "9cf5e99d",
   "metadata": {},
   "source": [
    "## Data Understanding \n",
    "\n",
    "### The training set"
   ]
  },
  {
   "cell_type": "code",
   "execution_count": null,
   "id": "4d65ceb2",
   "metadata": {},
   "outputs": [],
   "source": [
    "# Examine the first 5 entries of our dataset\n",
    "train_df.head()"
   ]
  },
  {
   "cell_type": "code",
   "execution_count": null,
   "id": "85bb7d86",
   "metadata": {},
   "outputs": [],
   "source": [
    "# Display information about our training dataframe\n",
    "train_df.info()"
   ]
  },
  {
   "cell_type": "code",
   "execution_count": null,
   "id": "ae61e1bd",
   "metadata": {},
   "outputs": [],
   "source": [
    "# View some statistical information about the features we have\n",
    "train_df.describe()"
   ]
  },
  {
   "cell_type": "code",
   "execution_count": null,
   "id": "8de7c6b5",
   "metadata": {},
   "outputs": [],
   "source": [
    "# Tally up the number of home team wins, away team wins and draws\n",
    "train_df[\"full_time_result\"].value_counts()"
   ]
  },
  {
   "cell_type": "markdown",
   "id": "c3684abf",
   "metadata": {},
   "source": [
    "### The test set"
   ]
  },
  {
   "cell_type": "code",
   "execution_count": null,
   "id": "b05d0b67",
   "metadata": {},
   "outputs": [],
   "source": [
    "# View the first 5 rows of the test set\n",
    "test_df.head()"
   ]
  },
  {
   "cell_type": "code",
   "execution_count": null,
   "id": "ce2df63a",
   "metadata": {},
   "outputs": [],
   "source": [
    "# Examine the columns of the test dataframe a bit more closely!\n",
    "test_df.info()"
   ]
  },
  {
   "cell_type": "markdown",
   "id": "c38c371c",
   "metadata": {},
   "source": [
    "## Data Visualisation"
   ]
  },
  {
   "cell_type": "code",
   "execution_count": null,
   "id": "c8093e78",
   "metadata": {},
   "outputs": [],
   "source": [
    "# TODO: produce a correlation matrix for the features in the training set"
   ]
  },
  {
   "cell_type": "markdown",
   "id": "9df71f7b",
   "metadata": {},
   "source": [
    "## Data Preprocessing"
   ]
  },
  {
   "cell_type": "code",
   "execution_count": null,
   "id": "641d9a16",
   "metadata": {},
   "outputs": [],
   "source": [
    "# Drop unneeded columns\n",
    "train_df.drop(\n",
    "    columns=[\n",
    "        \"date\",\n",
    "        \"full_time_home_goals\",\n",
    "        \"full_time_away_goals\",\n",
    "        \"half_time_home_goals\",\n",
    "        \"half_time_away_goals\",\n",
    "        \"half_time_result\",\n",
    "        \"referee\",\n",
    "    ],\n",
    "    inplace=True,\n",
    ")\n",
    "\n",
    "train_df.columns"
   ]
  },
  {
   "cell_type": "code",
   "execution_count": null,
   "id": "2cda0304",
   "metadata": {},
   "outputs": [],
   "source": [
    "# TODO: engineer some of your own features!"
   ]
  },
  {
   "cell_type": "code",
   "execution_count": null,
   "id": "61ada17c",
   "metadata": {},
   "outputs": [],
   "source": [
    "# Transform the data\n",
    "numeric_features = [\n",
    "    \"home_shots\",\n",
    "    \"away_shots\",\n",
    "    \"home_shots_on_target\",\n",
    "    \"away_shots_on_target\",\n",
    "    \"home_fouls\",\n",
    "    \"away_fouls\",\n",
    "    \"home_corners\",\n",
    "    \"away_corners\",\n",
    "    \"home_yellow_cards\",\n",
    "    \"away_yellow_cards\",\n",
    "    \"home_red_cards\",\n",
    "    \"away_red_cards\",\n",
    "]\n",
    "\n",
    "transformer = make_column_transformer(\n",
    "    (MinMaxScaler(), numeric_features),\n",
    "    (OneHotEncoder(), [\"home_team\", \"away_team\"]),\n",
    "    # OPTIONAL EXERCISE: add PCA\n",
    ")\n",
    "\n",
    "X = transformer.fit_transform(train_df.drop(columns=[\"full_time_result\"]))\n",
    "y = train_df[\"full_time_result\"]"
   ]
  },
  {
   "cell_type": "markdown",
   "id": "0b817b1d",
   "metadata": {},
   "source": [
    "## Model Selection, Training & Evaluation"
   ]
  },
  {
   "cell_type": "code",
   "execution_count": null,
   "id": "3e0e47c2",
   "metadata": {},
   "outputs": [],
   "source": [
    "# Perform a hyperparameter search\n",
    "parameter_grid = {\n",
    "    \"C\": [0.1, 1, 10],\n",
    "    # you can add more parameters here!\n",
    "}\n",
    "\n",
    "classifier = GridSearchCV(LinearSVC(max_iter=2000), parameter_grid, scoring=\"f1_micro\")\n",
    "classifier.fit(X, y)\n",
    "\n",
    "print(\"Best parameters:\", classifier.best_params_)\n",
    "print(\"Best micro-averaged F1 score:\", classifier.best_score_)"
   ]
  },
  {
   "cell_type": "code",
   "execution_count": null,
   "id": "ec4b9c9b",
   "metadata": {},
   "outputs": [],
   "source": [
    "# Plot a confusion matrix\n",
    "ConfusionMatrixDisplay.from_predictions(y_true=y, y_pred=classifier.predict(X))"
   ]
  },
  {
   "cell_type": "markdown",
   "id": "6625802f",
   "metadata": {},
   "source": [
    "## Preparing your DOXA Submission"
   ]
  },
  {
   "cell_type": "code",
   "execution_count": null,
   "id": "add2d754",
   "metadata": {},
   "outputs": [],
   "source": [
    "# Drop columns we do not need\n",
    "test_df.drop(columns=[\"date\", \"referee\"], inplace=True)\n",
    "\n",
    "# Transform the test set\n",
    "X_test = transformer.transform(test_df)\n",
    "\n",
    "# Use our trained classifier to make predictions\n",
    "predictions = classifier.predict(X_test)\n",
    "\n",
    "assert predictions.shape == (736,)\n",
    "\n",
    "# Take a look at the first 20 predictions\n",
    "predictions[:20]"
   ]
  },
  {
   "cell_type": "code",
   "execution_count": null,
   "id": "4d31ba29",
   "metadata": {},
   "outputs": [],
   "source": [
    "# Prepare our submission package\n",
    "os.makedirs(\"submission\", exist_ok=True)\n",
    "\n",
    "with open(\"submission/y.txt\", \"w\") as f:\n",
    "    f.writelines([f\"{prediction}\\n\" for prediction in predictions])\n",
    "\n",
    "with open(\"submission/doxa.yaml\", \"w\") as f:\n",
    "    f.write(\"competition: epl\\nenvironment: cpu\\nlanguage: python\\nentrypoint: run.py\")\n",
    "\n",
    "with open(\"submission/run.py\", \"w\") as f:\n",
    "    f.write(\"with open('y.txt', 'r') as f: print(f.read().strip())\")"
   ]
  },
  {
   "cell_type": "markdown",
   "id": "5a812a40",
   "metadata": {},
   "source": [
    "## Submitting to DOXA\n",
    "\n",
    "Before you can submit to DOXA, you must first ensure that you are enrolled for the challenge on the DOXA website. Visit [the challenge page](https://doxaai.com/competition/uclais-1) and click \"Enrol\" in the top-right corner if you have not done so already.\n",
    "\n",
    "You can then log in using the DOXA CLI by running the following command:"
   ]
  },
  {
   "cell_type": "code",
   "execution_count": null,
   "id": "5c4c2657",
   "metadata": {},
   "outputs": [],
   "source": [
    "!doxa login"
   ]
  },
  {
   "cell_type": "markdown",
   "id": "2e443437",
   "metadata": {},
   "source": [
    "Finally, you can submit your results to DOXA by running the following command:"
   ]
  },
  {
   "cell_type": "code",
   "execution_count": null,
   "id": "34c96e65",
   "metadata": {},
   "outputs": [],
   "source": [
    "!doxa upload submission"
   ]
  },
  {
   "cell_type": "markdown",
   "id": "661cbd4f",
   "metadata": {},
   "source": [
    "Wooo! 🥳 You have (probably) just uploaded your English Premier League match result predictions to DOXA &ndash; well done! Take a moment to see how you have done on the [scoreboard](https://doxaai.com/competition/epl)."
   ]
  }
 ],
 "metadata": {
  "kernelspec": {
   "display_name": "Python 3.10.1 64-bit",
   "language": "python",
   "name": "python3"
  },
  "language_info": {
   "codemirror_mode": {
    "name": "ipython",
    "version": 3
   },
   "file_extension": ".py",
   "mimetype": "text/x-python",
   "name": "python",
   "nbconvert_exporter": "python",
   "pygments_lexer": "ipython3",
   "version": "3.10.1"
  },
  "vscode": {
   "interpreter": {
    "hash": "369f2c481f4da34e4445cda3fffd2e751bd1c4d706f27375911949ba6bb62e1c"
   }
  }
 },
 "nbformat": 4,
 "nbformat_minor": 5
}
