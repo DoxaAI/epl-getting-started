{
 "cells": [
  {
   "cell_type": "markdown",
   "id": "75de2404",
   "metadata": {},
   "source": [
    "# Premier League Historical Match Result Prediction\n",
    "\n",
    "We are proud to present you with a multi-class classification challenge on predicting Premier League match results from August 2003 up until November 2022. This is a great opportunity to experiment with and learn about a variety of core concepts in machine learning and their implementation using [scikit-learn](https://scikit-learn.org/stable/index.html).\n",
    "\n",
    "This Jupyter notebook will guide you through the various general stages involved in end-to-end machine learning projects, including data visualisation, data preprocessing, model selection, model training and model evaluation. Finally, you will be able to submit your test set predictions to [DOXA](https://doxaai.com/).\n",
    "\n",
    "If you do not already have a DOXA account, you will want to [sign up](https://doxaai.com/sign-up) first before proceeding and then make sure you are enrolled on the [DOXA challenge page](https://doxaai.com/competition/epl)."
   ]
  },
  {
   "cell_type": "markdown",
   "id": "d9942c0f",
   "metadata": {},
   "source": [
    "<img alt=\"Premier League\" src=\"https://ajira.anzimag.com/wp-content/uploads/2022/08/5-8.png\" width=500>"
   ]
  },
  {
   "cell_type": "markdown",
   "id": "e542f871",
   "metadata": {},
   "source": [
    "**Background**: The Premier League is a professional association football league established in 1992. It forms the highest level in the English football league system and is the most highly viewed sports league in the world.\n",
    "\n",
    "The league contains 20 clubs, and during a Premier League season, each club plays one home and one away match with every other team in the league. As a result, every team plays 38 matches each season. A match victory gives the winning team three points in the standings, while a draw hands both teams one point each.\n",
    "\n",
    "At the end of each season, the three worst-performing teams are relegated to the first division of the English Football League (EFL) &ndash; the EFL Championship &ndash; and the top three EFL Championship teams are promoted to the Premier League in their place.\n",
    "\n",
    "**Objective**: The main objective for this challenge is to predict the result of a past Premier League match given some information about how the home and away teams performed during the match.\n",
    "\n",
    "**Dataset**: We have sourced and aggregated match information dating back to August 2003 from [football-data.co.uk](https://www.football-data.co.uk/englandm.php)."
   ]
  },
  {
   "cell_type": "markdown",
   "id": "ca822831",
   "metadata": {},
   "source": [
    "## Machine Learning Workflow"
   ]
  },
  {
   "cell_type": "markdown",
   "id": "7336cbe7",
   "metadata": {},
   "source": [
    "![title](https://miro.medium.com/max/1400/0*V0GyOt3LoDVfY7y5.png)"
   ]
  },
  {
   "cell_type": "markdown",
   "id": "05d966c1",
   "metadata": {},
   "source": [
    "The overall machine learning process covers a wide sequence of steps, so as you go through this notebook, try to keep in mind which stage are we dealing with and what we are trying to achieve. There are a lot of helpful resources online you can use, such as the excellent [scikit-learn documentation](https://scikit-learn.org/stable/getting_started.html). You are also more than welcome to ask questions in the [DOXA Community Discord server](https://discord.gg/MUvbQ3UYcf)!"
   ]
  },
  {
   "cell_type": "markdown",
   "id": "954cea8e",
   "metadata": {},
   "source": [
    "## Installing and Importing Useful Packages\n",
    "\n",
    "To get started, we will install a number of common machine learning packages."
   ]
  },
  {
   "cell_type": "code",
   "execution_count": 1,
   "id": "8ecb8a5f",
   "metadata": {},
   "outputs": [],
   "source": [
    "%pip install numpy pandas matplotlib seaborn scikit-learn doxa-cli ipympl"
   ]
  },
  {
   "cell_type": "code",
   "execution_count": 2,
   "id": "e5ecdc0b",
   "metadata": {},
   "outputs": [],
   "source": [
    "import os\n",
    "\n",
    "import matplotlib.pyplot as plt\n",
    "import numpy as np\n",
    "import pandas as pd\n",
    "import seaborn as sns\n",
    "\n",
    "# Import potentially useful scikit-learn modules\n",
    "from sklearn.compose import make_column_transformer\n",
    "from sklearn.decomposition import PCA\n",
    "from sklearn.ensemble import (\n",
    "    BaggingClassifier,\n",
    "    GradientBoostingClassifier,\n",
    "    RandomForestClassifier,\n",
    ")\n",
    "from sklearn.linear_model import LogisticRegression\n",
    "from sklearn.metrics import ConfusionMatrixDisplay, f1_score\n",
    "from sklearn.model_selection import GridSearchCV, train_test_split\n",
    "from sklearn.preprocessing import (\n",
    "    LabelEncoder,\n",
    "    MinMaxScaler,\n",
    "    OneHotEncoder,\n",
    "    OrdinalEncoder,\n",
    "    PolynomialFeatures,\n",
    "    StandardScaler,\n",
    ")\n",
    "from sklearn.svm import SVC, SVR, LinearSVC, NuSVC\n",
    "from sklearn.tree import DecisionTreeClassifier, DecisionTreeRegressor\n",
    "\n",
    "pd.set_option(\"display.max_colwidth\", None)\n",
    "\n",
    "%matplotlib widget"
   ]
  },
  {
   "cell_type": "markdown",
   "id": "47e7a4a0",
   "metadata": {},
   "source": [
    "## Data Loading"
   ]
  },
  {
   "cell_type": "code",
   "execution_count": 3,
   "id": "3b3822f6",
   "metadata": {},
   "outputs": [],
   "source": [
    "# Download the dataset if we don't already have it!\n",
    "if not os.path.exists(\"data\"):\n",
    "    os.makedirs(\"data\", exist_ok=True)\n",
    "\n",
    "    !curl https://raw.githubusercontent.com/DoxaAI/epl-getting-started/main/data/train.csv --output data/train.csv\n",
    "    !curl https://raw.githubusercontent.com/DoxaAI/epl-getting-started/main/data/test.csv --output data/test.csv"
   ]
  },
  {
   "cell_type": "code",
   "execution_count": 4,
   "id": "5c1be89f",
   "metadata": {},
   "outputs": [],
   "source": [
    "# Import the training dataset\n",
    "train_df_original = pd.read_csv(\n",
    "    \"./data/train.csv\", parse_dates=[\"date\"]\n",
    ")  # Change the path accordingly\n",
    "\n",
    "# Import the testing dataset\n",
    "test_df = pd.read_csv(\n",
    "    \"./data/test.csv\", parse_dates=[\"date\"]\n",
    ")  # Change the path accordingly"
   ]
  },
  {
   "cell_type": "code",
   "execution_count": 5,
   "id": "86fce303",
   "metadata": {},
   "outputs": [],
   "source": [
    "# We can then make an in-memory copy of the training set to manipulate\n",
    "# and process while leaving the original intact as we experiment\n",
    "train_df = train_df_original.copy()"
   ]
  },
  {
   "cell_type": "markdown",
   "id": "9cf5e99d",
   "metadata": {},
   "source": [
    "## Data Understanding \n",
    "\n",
    "Before we dive straight into training our machine learning model, it is important to first examine and understand the dataset with which we will be working. This will provide some key insights into what sorts of data preprocessing techniques and model types might be suitable for this problem, amongst other things.\n",
    "\n",
    "### The training set\n",
    "\n",
    "We will start by taking a look at the training data we have available to us by looking at the first couple entries in our dataframe."
   ]
  },
  {
   "cell_type": "code",
   "execution_count": 6,
   "id": "4d65ceb2",
   "metadata": {},
   "outputs": [
    {
     "data": {
      "text/html": [
       "<div>\n",
       "<style scoped>\n",
       "    .dataframe tbody tr th:only-of-type {\n",
       "        vertical-align: middle;\n",
       "    }\n",
       "\n",
       "    .dataframe tbody tr th {\n",
       "        vertical-align: top;\n",
       "    }\n",
       "\n",
       "    .dataframe thead th {\n",
       "        text-align: right;\n",
       "    }\n",
       "</style>\n",
       "<table border=\"1\" class=\"dataframe\">\n",
       "  <thead>\n",
       "    <tr style=\"text-align: right;\">\n",
       "      <th></th>\n",
       "      <th>date</th>\n",
       "      <th>home_team</th>\n",
       "      <th>away_team</th>\n",
       "      <th>full_time_home_goals</th>\n",
       "      <th>full_time_away_goals</th>\n",
       "      <th>full_time_result</th>\n",
       "      <th>half_time_home_goals</th>\n",
       "      <th>half_time_away_goals</th>\n",
       "      <th>half_time_result</th>\n",
       "      <th>referee</th>\n",
       "      <th>...</th>\n",
       "      <th>home_shots_on_target</th>\n",
       "      <th>away_shots_on_target</th>\n",
       "      <th>home_fouls</th>\n",
       "      <th>away_fouls</th>\n",
       "      <th>home_corners</th>\n",
       "      <th>away_corners</th>\n",
       "      <th>home_yellow_cards</th>\n",
       "      <th>away_yellow_cards</th>\n",
       "      <th>home_red_cards</th>\n",
       "      <th>away_red_cards</th>\n",
       "    </tr>\n",
       "  </thead>\n",
       "  <tbody>\n",
       "    <tr>\n",
       "      <th>0</th>\n",
       "      <td>2003-08-16</td>\n",
       "      <td>Arsenal</td>\n",
       "      <td>Everton</td>\n",
       "      <td>2</td>\n",
       "      <td>1</td>\n",
       "      <td>H</td>\n",
       "      <td>1</td>\n",
       "      <td>0</td>\n",
       "      <td>H</td>\n",
       "      <td>M Halsey</td>\n",
       "      <td>...</td>\n",
       "      <td>5</td>\n",
       "      <td>7</td>\n",
       "      <td>8</td>\n",
       "      <td>15</td>\n",
       "      <td>6</td>\n",
       "      <td>9</td>\n",
       "      <td>1</td>\n",
       "      <td>3</td>\n",
       "      <td>1</td>\n",
       "      <td>1</td>\n",
       "    </tr>\n",
       "    <tr>\n",
       "      <th>1</th>\n",
       "      <td>2003-08-16</td>\n",
       "      <td>Fulham</td>\n",
       "      <td>Middlesbrough</td>\n",
       "      <td>3</td>\n",
       "      <td>2</td>\n",
       "      <td>H</td>\n",
       "      <td>1</td>\n",
       "      <td>1</td>\n",
       "      <td>D</td>\n",
       "      <td>G Poll</td>\n",
       "      <td>...</td>\n",
       "      <td>9</td>\n",
       "      <td>5</td>\n",
       "      <td>18</td>\n",
       "      <td>16</td>\n",
       "      <td>7</td>\n",
       "      <td>6</td>\n",
       "      <td>1</td>\n",
       "      <td>1</td>\n",
       "      <td>0</td>\n",
       "      <td>0</td>\n",
       "    </tr>\n",
       "    <tr>\n",
       "      <th>2</th>\n",
       "      <td>2003-08-16</td>\n",
       "      <td>Birmingham</td>\n",
       "      <td>Tottenham</td>\n",
       "      <td>1</td>\n",
       "      <td>0</td>\n",
       "      <td>H</td>\n",
       "      <td>1</td>\n",
       "      <td>0</td>\n",
       "      <td>H</td>\n",
       "      <td>R Styles</td>\n",
       "      <td>...</td>\n",
       "      <td>5</td>\n",
       "      <td>7</td>\n",
       "      <td>20</td>\n",
       "      <td>27</td>\n",
       "      <td>1</td>\n",
       "      <td>4</td>\n",
       "      <td>3</td>\n",
       "      <td>5</td>\n",
       "      <td>0</td>\n",
       "      <td>0</td>\n",
       "    </tr>\n",
       "    <tr>\n",
       "      <th>3</th>\n",
       "      <td>2003-08-16</td>\n",
       "      <td>Portsmouth</td>\n",
       "      <td>Aston Villa</td>\n",
       "      <td>2</td>\n",
       "      <td>1</td>\n",
       "      <td>H</td>\n",
       "      <td>1</td>\n",
       "      <td>0</td>\n",
       "      <td>H</td>\n",
       "      <td>G Barber</td>\n",
       "      <td>...</td>\n",
       "      <td>3</td>\n",
       "      <td>5</td>\n",
       "      <td>18</td>\n",
       "      <td>22</td>\n",
       "      <td>7</td>\n",
       "      <td>9</td>\n",
       "      <td>2</td>\n",
       "      <td>1</td>\n",
       "      <td>0</td>\n",
       "      <td>1</td>\n",
       "    </tr>\n",
       "    <tr>\n",
       "      <th>4</th>\n",
       "      <td>2003-08-16</td>\n",
       "      <td>Man United</td>\n",
       "      <td>Bolton</td>\n",
       "      <td>4</td>\n",
       "      <td>0</td>\n",
       "      <td>H</td>\n",
       "      <td>1</td>\n",
       "      <td>0</td>\n",
       "      <td>H</td>\n",
       "      <td>P Durkin</td>\n",
       "      <td>...</td>\n",
       "      <td>6</td>\n",
       "      <td>5</td>\n",
       "      <td>12</td>\n",
       "      <td>8</td>\n",
       "      <td>8</td>\n",
       "      <td>4</td>\n",
       "      <td>0</td>\n",
       "      <td>4</td>\n",
       "      <td>0</td>\n",
       "      <td>0</td>\n",
       "    </tr>\n",
       "  </tbody>\n",
       "</table>\n",
       "<p>5 rows × 22 columns</p>\n",
       "</div>"
      ],
      "text/plain": [
       "        date   home_team      away_team  full_time_home_goals  \\\n",
       "0 2003-08-16     Arsenal        Everton                     2   \n",
       "1 2003-08-16      Fulham  Middlesbrough                     3   \n",
       "2 2003-08-16  Birmingham      Tottenham                     1   \n",
       "3 2003-08-16  Portsmouth    Aston Villa                     2   \n",
       "4 2003-08-16  Man United         Bolton                     4   \n",
       "\n",
       "   full_time_away_goals full_time_result  half_time_home_goals  \\\n",
       "0                     1                H                     1   \n",
       "1                     2                H                     1   \n",
       "2                     0                H                     1   \n",
       "3                     1                H                     1   \n",
       "4                     0                H                     1   \n",
       "\n",
       "   half_time_away_goals half_time_result   referee  ...  home_shots_on_target  \\\n",
       "0                     0                H  M Halsey  ...                     5   \n",
       "1                     1                D    G Poll  ...                     9   \n",
       "2                     0                H  R Styles  ...                     5   \n",
       "3                     0                H  G Barber  ...                     3   \n",
       "4                     0                H  P Durkin  ...                     6   \n",
       "\n",
       "   away_shots_on_target  home_fouls  away_fouls  home_corners  away_corners  \\\n",
       "0                     7           8          15             6             9   \n",
       "1                     5          18          16             7             6   \n",
       "2                     7          20          27             1             4   \n",
       "3                     5          18          22             7             9   \n",
       "4                     5          12           8             8             4   \n",
       "\n",
       "   home_yellow_cards  away_yellow_cards  home_red_cards  away_red_cards  \n",
       "0                  1                  3               1               1  \n",
       "1                  1                  1               0               0  \n",
       "2                  3                  5               0               0  \n",
       "3                  2                  1               0               1  \n",
       "4                  0                  4               0               0  \n",
       "\n",
       "[5 rows x 22 columns]"
      ]
     },
     "execution_count": 6,
     "metadata": {},
     "output_type": "execute_result"
    }
   ],
   "source": [
    "# Examine the first 5 entries of our dataset\n",
    "train_df.head()"
   ]
  },
  {
   "cell_type": "markdown",
   "id": "3ebbf17f",
   "metadata": {},
   "source": [
    "So far, so good &ndash; nothing looks absurdly outlandish, so we are probably safe to continue!\n",
    "\n",
    "As part of our analysis, it can be useful to find out the following things: what columns we have, what they represent and their datatypes; how many entries there are; and whether there are any missing values in our training dataset we might have to handle (e.g. by dropping the rows they are in or imputing the missing values)."
   ]
  },
  {
   "cell_type": "code",
   "execution_count": 7,
   "id": "85bb7d86",
   "metadata": {},
   "outputs": [
    {
     "name": "stdout",
     "output_type": "stream",
     "text": [
      "<class 'pandas.core.frame.DataFrame'>\n",
      "RangeIndex: 6630 entries, 0 to 6629\n",
      "Data columns (total 22 columns):\n",
      " #   Column                Non-Null Count  Dtype         \n",
      "---  ------                --------------  -----         \n",
      " 0   date                  6630 non-null   datetime64[ns]\n",
      " 1   home_team             6630 non-null   object        \n",
      " 2   away_team             6630 non-null   object        \n",
      " 3   full_time_home_goals  6630 non-null   int64         \n",
      " 4   full_time_away_goals  6630 non-null   int64         \n",
      " 5   full_time_result      6630 non-null   object        \n",
      " 6   half_time_home_goals  6630 non-null   int64         \n",
      " 7   half_time_away_goals  6630 non-null   int64         \n",
      " 8   half_time_result      6630 non-null   object        \n",
      " 9   referee               6630 non-null   object        \n",
      " 10  home_shots            6630 non-null   int64         \n",
      " 11  away_shots            6630 non-null   int64         \n",
      " 12  home_shots_on_target  6630 non-null   int64         \n",
      " 13  away_shots_on_target  6630 non-null   int64         \n",
      " 14  home_fouls            6630 non-null   int64         \n",
      " 15  away_fouls            6630 non-null   int64         \n",
      " 16  home_corners          6630 non-null   int64         \n",
      " 17  away_corners          6630 non-null   int64         \n",
      " 18  home_yellow_cards     6630 non-null   int64         \n",
      " 19  away_yellow_cards     6630 non-null   int64         \n",
      " 20  home_red_cards        6630 non-null   int64         \n",
      " 21  away_red_cards        6630 non-null   int64         \n",
      "dtypes: datetime64[ns](1), int64(16), object(5)\n",
      "memory usage: 1.1+ MB\n"
     ]
    }
   ],
   "source": [
    "# Display information about our training dataframe\n",
    "train_df.info()"
   ]
  },
  {
   "cell_type": "markdown",
   "id": "21c6a388",
   "metadata": {},
   "source": [
    "Nice &ndash; it looks like we have **6630 entries** with **22 columns** (including our output label `full_time_result`), representing both numerical and categorical data, as well as no missing values! \n",
    "\n",
    "If you prefer, you can also confirm that there are no missing values another way:"
   ]
  },
  {
   "cell_type": "code",
   "execution_count": 8,
   "id": "71624a98",
   "metadata": {},
   "outputs": [
    {
     "data": {
      "text/plain": [
       "date                    0\n",
       "home_team               0\n",
       "away_team               0\n",
       "full_time_home_goals    0\n",
       "full_time_away_goals    0\n",
       "full_time_result        0\n",
       "half_time_home_goals    0\n",
       "half_time_away_goals    0\n",
       "half_time_result        0\n",
       "referee                 0\n",
       "home_shots              0\n",
       "away_shots              0\n",
       "home_shots_on_target    0\n",
       "away_shots_on_target    0\n",
       "home_fouls              0\n",
       "away_fouls              0\n",
       "home_corners            0\n",
       "away_corners            0\n",
       "home_yellow_cards       0\n",
       "away_yellow_cards       0\n",
       "home_red_cards          0\n",
       "away_red_cards          0\n",
       "dtype: int64"
      ]
     },
     "execution_count": 8,
     "metadata": {},
     "output_type": "execute_result"
    }
   ],
   "source": [
    "# Count how many missing values there are for each column\n",
    "train_df.isna().sum()"
   ]
  },
  {
   "cell_type": "markdown",
   "id": "4729f502",
   "metadata": {},
   "source": [
    "We can also take a look at a few summary statistics for the different numerical columns in our dataframe."
   ]
  },
  {
   "cell_type": "code",
   "execution_count": 9,
   "id": "ae61e1bd",
   "metadata": {},
   "outputs": [
    {
     "data": {
      "text/html": [
       "<div>\n",
       "<style scoped>\n",
       "    .dataframe tbody tr th:only-of-type {\n",
       "        vertical-align: middle;\n",
       "    }\n",
       "\n",
       "    .dataframe tbody tr th {\n",
       "        vertical-align: top;\n",
       "    }\n",
       "\n",
       "    .dataframe thead th {\n",
       "        text-align: right;\n",
       "    }\n",
       "</style>\n",
       "<table border=\"1\" class=\"dataframe\">\n",
       "  <thead>\n",
       "    <tr style=\"text-align: right;\">\n",
       "      <th></th>\n",
       "      <th>full_time_home_goals</th>\n",
       "      <th>full_time_away_goals</th>\n",
       "      <th>half_time_home_goals</th>\n",
       "      <th>half_time_away_goals</th>\n",
       "      <th>home_shots</th>\n",
       "      <th>away_shots</th>\n",
       "      <th>home_shots_on_target</th>\n",
       "      <th>away_shots_on_target</th>\n",
       "      <th>home_fouls</th>\n",
       "      <th>away_fouls</th>\n",
       "      <th>home_corners</th>\n",
       "      <th>away_corners</th>\n",
       "      <th>home_yellow_cards</th>\n",
       "      <th>away_yellow_cards</th>\n",
       "      <th>home_red_cards</th>\n",
       "      <th>away_red_cards</th>\n",
       "    </tr>\n",
       "  </thead>\n",
       "  <tbody>\n",
       "    <tr>\n",
       "      <th>count</th>\n",
       "      <td>6630.000000</td>\n",
       "      <td>6630.000000</td>\n",
       "      <td>6630.000000</td>\n",
       "      <td>6630.000000</td>\n",
       "      <td>6630.000000</td>\n",
       "      <td>6630.000000</td>\n",
       "      <td>6630.000000</td>\n",
       "      <td>6630.000000</td>\n",
       "      <td>6630.000000</td>\n",
       "      <td>6630.000000</td>\n",
       "      <td>6630.000000</td>\n",
       "      <td>6630.000000</td>\n",
       "      <td>6630.000000</td>\n",
       "      <td>6630.000000</td>\n",
       "      <td>6630.000000</td>\n",
       "      <td>6630.000000</td>\n",
       "    </tr>\n",
       "    <tr>\n",
       "      <th>mean</th>\n",
       "      <td>1.521116</td>\n",
       "      <td>1.160935</td>\n",
       "      <td>0.682353</td>\n",
       "      <td>0.513575</td>\n",
       "      <td>13.638914</td>\n",
       "      <td>10.856109</td>\n",
       "      <td>6.043137</td>\n",
       "      <td>4.769985</td>\n",
       "      <td>11.121719</td>\n",
       "      <td>11.567722</td>\n",
       "      <td>6.028808</td>\n",
       "      <td>4.754148</td>\n",
       "      <td>1.439367</td>\n",
       "      <td>1.742383</td>\n",
       "      <td>0.060935</td>\n",
       "      <td>0.084314</td>\n",
       "    </tr>\n",
       "    <tr>\n",
       "      <th>std</th>\n",
       "      <td>1.304606</td>\n",
       "      <td>1.150159</td>\n",
       "      <td>0.834198</td>\n",
       "      <td>0.729140</td>\n",
       "      <td>5.343723</td>\n",
       "      <td>4.681639</td>\n",
       "      <td>3.356067</td>\n",
       "      <td>2.829233</td>\n",
       "      <td>3.673440</td>\n",
       "      <td>3.828246</td>\n",
       "      <td>3.106825</td>\n",
       "      <td>2.726295</td>\n",
       "      <td>1.188846</td>\n",
       "      <td>1.269767</td>\n",
       "      <td>0.250323</td>\n",
       "      <td>0.289054</td>\n",
       "    </tr>\n",
       "    <tr>\n",
       "      <th>min</th>\n",
       "      <td>0.000000</td>\n",
       "      <td>0.000000</td>\n",
       "      <td>0.000000</td>\n",
       "      <td>0.000000</td>\n",
       "      <td>0.000000</td>\n",
       "      <td>0.000000</td>\n",
       "      <td>0.000000</td>\n",
       "      <td>0.000000</td>\n",
       "      <td>0.000000</td>\n",
       "      <td>1.000000</td>\n",
       "      <td>0.000000</td>\n",
       "      <td>0.000000</td>\n",
       "      <td>0.000000</td>\n",
       "      <td>0.000000</td>\n",
       "      <td>0.000000</td>\n",
       "      <td>0.000000</td>\n",
       "    </tr>\n",
       "    <tr>\n",
       "      <th>25%</th>\n",
       "      <td>1.000000</td>\n",
       "      <td>0.000000</td>\n",
       "      <td>0.000000</td>\n",
       "      <td>0.000000</td>\n",
       "      <td>10.000000</td>\n",
       "      <td>7.000000</td>\n",
       "      <td>4.000000</td>\n",
       "      <td>3.000000</td>\n",
       "      <td>9.000000</td>\n",
       "      <td>9.000000</td>\n",
       "      <td>4.000000</td>\n",
       "      <td>3.000000</td>\n",
       "      <td>1.000000</td>\n",
       "      <td>1.000000</td>\n",
       "      <td>0.000000</td>\n",
       "      <td>0.000000</td>\n",
       "    </tr>\n",
       "    <tr>\n",
       "      <th>50%</th>\n",
       "      <td>1.000000</td>\n",
       "      <td>1.000000</td>\n",
       "      <td>0.000000</td>\n",
       "      <td>0.000000</td>\n",
       "      <td>13.000000</td>\n",
       "      <td>10.000000</td>\n",
       "      <td>6.000000</td>\n",
       "      <td>4.000000</td>\n",
       "      <td>11.000000</td>\n",
       "      <td>11.000000</td>\n",
       "      <td>6.000000</td>\n",
       "      <td>4.000000</td>\n",
       "      <td>1.000000</td>\n",
       "      <td>2.000000</td>\n",
       "      <td>0.000000</td>\n",
       "      <td>0.000000</td>\n",
       "    </tr>\n",
       "    <tr>\n",
       "      <th>75%</th>\n",
       "      <td>2.000000</td>\n",
       "      <td>2.000000</td>\n",
       "      <td>1.000000</td>\n",
       "      <td>1.000000</td>\n",
       "      <td>17.000000</td>\n",
       "      <td>14.000000</td>\n",
       "      <td>8.000000</td>\n",
       "      <td>6.000000</td>\n",
       "      <td>13.000000</td>\n",
       "      <td>14.000000</td>\n",
       "      <td>8.000000</td>\n",
       "      <td>6.000000</td>\n",
       "      <td>2.000000</td>\n",
       "      <td>3.000000</td>\n",
       "      <td>0.000000</td>\n",
       "      <td>0.000000</td>\n",
       "    </tr>\n",
       "    <tr>\n",
       "      <th>max</th>\n",
       "      <td>9.000000</td>\n",
       "      <td>9.000000</td>\n",
       "      <td>5.000000</td>\n",
       "      <td>5.000000</td>\n",
       "      <td>43.000000</td>\n",
       "      <td>30.000000</td>\n",
       "      <td>24.000000</td>\n",
       "      <td>20.000000</td>\n",
       "      <td>33.000000</td>\n",
       "      <td>27.000000</td>\n",
       "      <td>20.000000</td>\n",
       "      <td>19.000000</td>\n",
       "      <td>7.000000</td>\n",
       "      <td>9.000000</td>\n",
       "      <td>3.000000</td>\n",
       "      <td>2.000000</td>\n",
       "    </tr>\n",
       "  </tbody>\n",
       "</table>\n",
       "</div>"
      ],
      "text/plain": [
       "       full_time_home_goals  full_time_away_goals  half_time_home_goals  \\\n",
       "count           6630.000000           6630.000000           6630.000000   \n",
       "mean               1.521116              1.160935              0.682353   \n",
       "std                1.304606              1.150159              0.834198   \n",
       "min                0.000000              0.000000              0.000000   \n",
       "25%                1.000000              0.000000              0.000000   \n",
       "50%                1.000000              1.000000              0.000000   \n",
       "75%                2.000000              2.000000              1.000000   \n",
       "max                9.000000              9.000000              5.000000   \n",
       "\n",
       "       half_time_away_goals   home_shots   away_shots  home_shots_on_target  \\\n",
       "count           6630.000000  6630.000000  6630.000000           6630.000000   \n",
       "mean               0.513575    13.638914    10.856109              6.043137   \n",
       "std                0.729140     5.343723     4.681639              3.356067   \n",
       "min                0.000000     0.000000     0.000000              0.000000   \n",
       "25%                0.000000    10.000000     7.000000              4.000000   \n",
       "50%                0.000000    13.000000    10.000000              6.000000   \n",
       "75%                1.000000    17.000000    14.000000              8.000000   \n",
       "max                5.000000    43.000000    30.000000             24.000000   \n",
       "\n",
       "       away_shots_on_target   home_fouls   away_fouls  home_corners  \\\n",
       "count           6630.000000  6630.000000  6630.000000   6630.000000   \n",
       "mean               4.769985    11.121719    11.567722      6.028808   \n",
       "std                2.829233     3.673440     3.828246      3.106825   \n",
       "min                0.000000     0.000000     1.000000      0.000000   \n",
       "25%                3.000000     9.000000     9.000000      4.000000   \n",
       "50%                4.000000    11.000000    11.000000      6.000000   \n",
       "75%                6.000000    13.000000    14.000000      8.000000   \n",
       "max               20.000000    33.000000    27.000000     20.000000   \n",
       "\n",
       "       away_corners  home_yellow_cards  away_yellow_cards  home_red_cards  \\\n",
       "count   6630.000000        6630.000000        6630.000000     6630.000000   \n",
       "mean       4.754148           1.439367           1.742383        0.060935   \n",
       "std        2.726295           1.188846           1.269767        0.250323   \n",
       "min        0.000000           0.000000           0.000000        0.000000   \n",
       "25%        3.000000           1.000000           1.000000        0.000000   \n",
       "50%        4.000000           1.000000           2.000000        0.000000   \n",
       "75%        6.000000           2.000000           3.000000        0.000000   \n",
       "max       19.000000           7.000000           9.000000        3.000000   \n",
       "\n",
       "       away_red_cards  \n",
       "count     6630.000000  \n",
       "mean         0.084314  \n",
       "std          0.289054  \n",
       "min          0.000000  \n",
       "25%          0.000000  \n",
       "50%          0.000000  \n",
       "75%          0.000000  \n",
       "max          2.000000  "
      ]
     },
     "execution_count": 9,
     "metadata": {},
     "output_type": "execute_result"
    }
   ],
   "source": [
    "# View some statistical information about the features we have\n",
    "train_df.describe()"
   ]
  },
  {
   "cell_type": "markdown",
   "id": "7ed20ca5",
   "metadata": {},
   "source": [
    "Since we are trying to predict the `full_time_result` label, it is also worthwhile taking a look at the distribution of the output classes."
   ]
  },
  {
   "cell_type": "code",
   "execution_count": 10,
   "id": "8de7c6b5",
   "metadata": {},
   "outputs": [
    {
     "data": {
      "text/plain": [
       "H    3026\n",
       "A    1953\n",
       "D    1651\n",
       "Name: full_time_result, dtype: int64"
      ]
     },
     "execution_count": 10,
     "metadata": {},
     "output_type": "execute_result"
    }
   ],
   "source": [
    "# Tally up the number of home team wins, away team wins and draws\n",
    "train_df[\"full_time_result\"].value_counts()"
   ]
  },
  {
   "cell_type": "markdown",
   "id": "c3684abf",
   "metadata": {},
   "source": [
    "In summary, from the simple cursory analysis above, we can note the following:\n",
    "\n",
    "- There are 6630 rows (samples) formed of 22 columns (including the `full_time_result` label we are trying to predict)\n",
    "- The features in our dataset involve both numerical and categorical values\n",
    "- There are no missing data values in our dataset (thankfully!)\n",
    "- Output labels are either `\"H\"`, `\"A\"` or `\"D\"`\n",
    "- There is a clear home team advantage, so this is an *imbalanced* multi-class classification problem!\n",
    "\n",
    "Data on the number of goals won by each team has been provided (see `full_time_home_goals` and `full_time_away_goals`), and there are some creative things you might want to do with it; however, if you are building a classifier to predict the full-time result (`full_time_result`) directly, you should not train on the goal data, since the resulting **data leakage** (or **target leakage**) would artificially inflate the performance of your model.\n",
    "\n",
    "### The test set\n",
    "\n",
    "Now, we can take a look at the test set data we have available to us."
   ]
  },
  {
   "cell_type": "code",
   "execution_count": 11,
   "id": "b05d0b67",
   "metadata": {},
   "outputs": [
    {
     "data": {
      "text/html": [
       "<div>\n",
       "<style scoped>\n",
       "    .dataframe tbody tr th:only-of-type {\n",
       "        vertical-align: middle;\n",
       "    }\n",
       "\n",
       "    .dataframe tbody tr th {\n",
       "        vertical-align: top;\n",
       "    }\n",
       "\n",
       "    .dataframe thead th {\n",
       "        text-align: right;\n",
       "    }\n",
       "</style>\n",
       "<table border=\"1\" class=\"dataframe\">\n",
       "  <thead>\n",
       "    <tr style=\"text-align: right;\">\n",
       "      <th></th>\n",
       "      <th>date</th>\n",
       "      <th>home_team</th>\n",
       "      <th>away_team</th>\n",
       "      <th>referee</th>\n",
       "      <th>home_shots</th>\n",
       "      <th>away_shots</th>\n",
       "      <th>home_shots_on_target</th>\n",
       "      <th>away_shots_on_target</th>\n",
       "      <th>home_fouls</th>\n",
       "      <th>away_fouls</th>\n",
       "      <th>home_corners</th>\n",
       "      <th>away_corners</th>\n",
       "      <th>home_yellow_cards</th>\n",
       "      <th>away_yellow_cards</th>\n",
       "      <th>home_red_cards</th>\n",
       "      <th>away_red_cards</th>\n",
       "    </tr>\n",
       "  </thead>\n",
       "  <tbody>\n",
       "    <tr>\n",
       "      <th>0</th>\n",
       "      <td>2017-12-13</td>\n",
       "      <td>West Ham</td>\n",
       "      <td>Arsenal</td>\n",
       "      <td>J Moss</td>\n",
       "      <td>6</td>\n",
       "      <td>22</td>\n",
       "      <td>0</td>\n",
       "      <td>3</td>\n",
       "      <td>9</td>\n",
       "      <td>9</td>\n",
       "      <td>1</td>\n",
       "      <td>7</td>\n",
       "      <td>1</td>\n",
       "      <td>0</td>\n",
       "      <td>0</td>\n",
       "      <td>0</td>\n",
       "    </tr>\n",
       "    <tr>\n",
       "      <th>1</th>\n",
       "      <td>2004-02-21</td>\n",
       "      <td>Man United</td>\n",
       "      <td>Leeds</td>\n",
       "      <td>M Halsey</td>\n",
       "      <td>24</td>\n",
       "      <td>7</td>\n",
       "      <td>7</td>\n",
       "      <td>3</td>\n",
       "      <td>12</td>\n",
       "      <td>17</td>\n",
       "      <td>12</td>\n",
       "      <td>7</td>\n",
       "      <td>1</td>\n",
       "      <td>2</td>\n",
       "      <td>0</td>\n",
       "      <td>0</td>\n",
       "    </tr>\n",
       "    <tr>\n",
       "      <th>2</th>\n",
       "      <td>2009-02-23</td>\n",
       "      <td>Hull</td>\n",
       "      <td>Tottenham</td>\n",
       "      <td>L Probert</td>\n",
       "      <td>12</td>\n",
       "      <td>9</td>\n",
       "      <td>4</td>\n",
       "      <td>6</td>\n",
       "      <td>11</td>\n",
       "      <td>7</td>\n",
       "      <td>11</td>\n",
       "      <td>13</td>\n",
       "      <td>2</td>\n",
       "      <td>1</td>\n",
       "      <td>0</td>\n",
       "      <td>0</td>\n",
       "    </tr>\n",
       "    <tr>\n",
       "      <th>3</th>\n",
       "      <td>2017-12-03</td>\n",
       "      <td>Bournemouth</td>\n",
       "      <td>Southampton</td>\n",
       "      <td>J Moss</td>\n",
       "      <td>16</td>\n",
       "      <td>15</td>\n",
       "      <td>5</td>\n",
       "      <td>4</td>\n",
       "      <td>6</td>\n",
       "      <td>12</td>\n",
       "      <td>5</td>\n",
       "      <td>4</td>\n",
       "      <td>2</td>\n",
       "      <td>1</td>\n",
       "      <td>0</td>\n",
       "      <td>0</td>\n",
       "    </tr>\n",
       "    <tr>\n",
       "      <th>4</th>\n",
       "      <td>2014-01-18</td>\n",
       "      <td>Liverpool</td>\n",
       "      <td>Aston Villa</td>\n",
       "      <td>J Moss</td>\n",
       "      <td>14</td>\n",
       "      <td>12</td>\n",
       "      <td>6</td>\n",
       "      <td>3</td>\n",
       "      <td>14</td>\n",
       "      <td>18</td>\n",
       "      <td>2</td>\n",
       "      <td>3</td>\n",
       "      <td>1</td>\n",
       "      <td>4</td>\n",
       "      <td>0</td>\n",
       "      <td>0</td>\n",
       "    </tr>\n",
       "  </tbody>\n",
       "</table>\n",
       "</div>"
      ],
      "text/plain": [
       "        date    home_team    away_team    referee  home_shots  away_shots  \\\n",
       "0 2017-12-13     West Ham      Arsenal     J Moss           6          22   \n",
       "1 2004-02-21   Man United        Leeds   M Halsey          24           7   \n",
       "2 2009-02-23         Hull    Tottenham  L Probert          12           9   \n",
       "3 2017-12-03  Bournemouth  Southampton     J Moss          16          15   \n",
       "4 2014-01-18    Liverpool  Aston Villa     J Moss          14          12   \n",
       "\n",
       "   home_shots_on_target  away_shots_on_target  home_fouls  away_fouls  \\\n",
       "0                     0                     3           9           9   \n",
       "1                     7                     3          12          17   \n",
       "2                     4                     6          11           7   \n",
       "3                     5                     4           6          12   \n",
       "4                     6                     3          14          18   \n",
       "\n",
       "   home_corners  away_corners  home_yellow_cards  away_yellow_cards  \\\n",
       "0             1             7                  1                  0   \n",
       "1            12             7                  1                  2   \n",
       "2            11            13                  2                  1   \n",
       "3             5             4                  2                  1   \n",
       "4             2             3                  1                  4   \n",
       "\n",
       "   home_red_cards  away_red_cards  \n",
       "0               0               0  \n",
       "1               0               0  \n",
       "2               0               0  \n",
       "3               0               0  \n",
       "4               0               0  "
      ]
     },
     "execution_count": 11,
     "metadata": {},
     "output_type": "execute_result"
    }
   ],
   "source": [
    "# View the first 5 rows of the test set\n",
    "test_df.head()"
   ]
  },
  {
   "cell_type": "code",
   "execution_count": 12,
   "id": "ce2df63a",
   "metadata": {},
   "outputs": [
    {
     "name": "stdout",
     "output_type": "stream",
     "text": [
      "<class 'pandas.core.frame.DataFrame'>\n",
      "RangeIndex: 736 entries, 0 to 735\n",
      "Data columns (total 16 columns):\n",
      " #   Column                Non-Null Count  Dtype         \n",
      "---  ------                --------------  -----         \n",
      " 0   date                  736 non-null    datetime64[ns]\n",
      " 1   home_team             736 non-null    object        \n",
      " 2   away_team             736 non-null    object        \n",
      " 3   referee               736 non-null    object        \n",
      " 4   home_shots            736 non-null    int64         \n",
      " 5   away_shots            736 non-null    int64         \n",
      " 6   home_shots_on_target  736 non-null    int64         \n",
      " 7   away_shots_on_target  736 non-null    int64         \n",
      " 8   home_fouls            736 non-null    int64         \n",
      " 9   away_fouls            736 non-null    int64         \n",
      " 10  home_corners          736 non-null    int64         \n",
      " 11  away_corners          736 non-null    int64         \n",
      " 12  home_yellow_cards     736 non-null    int64         \n",
      " 13  away_yellow_cards     736 non-null    int64         \n",
      " 14  home_red_cards        736 non-null    int64         \n",
      " 15  away_red_cards        736 non-null    int64         \n",
      "dtypes: datetime64[ns](1), int64(12), object(3)\n",
      "memory usage: 92.1+ KB\n"
     ]
    }
   ],
   "source": [
    "# Examine the columns of the test dataframe a bit more closely!\n",
    "test_df.info()"
   ]
  },
  {
   "cell_type": "markdown",
   "id": "57510237",
   "metadata": {},
   "source": [
    "Right off the bat, we can see that the test set contains fewer columns than the training set; we are not only missing the `full_time_result` label we are trying to predict but also `full_time_home_goals`, `full_time_away_goals`, `half_time_home_goals`, `half_time_away_goals` and other columns that are closely related to the full-time match result label.\n",
    "\n",
    "There are a lot of interesting strategies you can experiment with to deal with a problem of this nature, and we would encourage you to be creative, but for now, we will take the simplest approach: we will only take the columns that are common to both as input features to train our model and ignore the others."
   ]
  },
  {
   "cell_type": "markdown",
   "id": "c38c371c",
   "metadata": {},
   "source": [
    "## Data Visualisation\n",
    "\n",
    "In general, we might hypothesise that teams with a greater number of shots on target stand a greater chance of winning. This is a relationship we can visualise by producing a plot of the win rate for teams as a function of the number of shots on target."
   ]
  },
  {
   "cell_type": "code",
   "execution_count": 13,
   "id": "6f248f0a",
   "metadata": {},
   "outputs": [
    {
     "data": {
      "application/vnd.jupyter.widget-view+json": {
       "model_id": "f10ffc38176c4e65aeac4866c6f1670f",
       "version_major": 2,
       "version_minor": 0
      },
      "image/png": "[encoded data removed]",
      "text/html": [
       "\n",
       "            <div style=\"display: inline-block;\">\n",
       "                <div class=\"jupyter-widgets widget-label\" style=\"text-align: center;\">\n",
       "                    Figure\n",
       "                </div>\n",
       "                <img src='data:image/png;base64,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' width=1000.0/>\n",
       "            </div>\n",
       "        "
      ],
      "text/plain": [
       "Canvas(toolbar=Toolbar(toolitems=[('Home', 'Reset original view', 'home', 'home'), ('Back', 'Back to previous …"
      ]
     },
     "metadata": {},
     "output_type": "display_data"
    }
   ],
   "source": [
    "# Calculate the chance of a team winning the match as a function of number of shots made\n",
    "shots_on_target_data = []\n",
    "for _, row in train_df.iterrows():\n",
    "    shots_on_target_data.append(\n",
    "        (row[\"home_shots_on_target\"], row[\"full_time_result\"] == \"H\")\n",
    "    )\n",
    "    shots_on_target_data.append(\n",
    "        (row[\"away_shots_on_target\"], row[\"full_time_result\"] == \"A\")\n",
    "    )\n",
    "\n",
    "shots_on_target_df = (\n",
    "    pd.DataFrame(shots_on_target_data, columns=[\"shots_on_target\", \"win_rate\"])\n",
    "    .groupby(\"shots_on_target\")\n",
    "    .mean()\n",
    ")\n",
    "\n",
    "# Plot the relationship\n",
    "fig = plt.figure(figsize=(10, 5))\n",
    "ax0 = fig.add_subplot()\n",
    "sns.lineplot(\n",
    "    data=shots_on_target_df, x=\"shots_on_target\", y=\"win_rate\", ax=ax0, legend=False\n",
    ")\n",
    "ax0.set_title(\"A plot of the win rate as a function of the number of shots on target\")\n",
    "ax0.tick_params(axis=\"both\", which=\"major\", labelsize=8)\n",
    "ax0.tick_params(axis=\"both\", which=\"both\", length=0)\n",
    "\n",
    "plt.show()"
   ]
  },
  {
   "cell_type": "markdown",
   "id": "d87d2df1",
   "metadata": {},
   "source": [
    "As the number of shots on target increases, the win rate also increases, as you might expect, so it likely to be a good feature to use. What other relationships might you want to investigate?"
   ]
  },
  {
   "cell_type": "code",
   "execution_count": 14,
   "id": "c8093e78",
   "metadata": {},
   "outputs": [],
   "source": [
    "# EXERCISE: produce a correlation matrix for the features in the training set"
   ]
  },
  {
   "cell_type": "markdown",
   "id": "9df71f7b",
   "metadata": {},
   "source": [
    "## Data Preprocessing"
   ]
  },
  {
   "cell_type": "markdown",
   "id": "30a9b167",
   "metadata": {},
   "source": [
    "We can now move onto preprocessing our data to prepare it for use in training. Here, we are looking to do things such as scaling our numerical data, encoding our categorical data and possibly even engineering some features! If you are interested in learning more about data preprocessing, check out the [scikit-learn documentation](https://scikit-learn.org/stable/modules/preprocessing.html) on the subject. Just note that you will want to preprocess the test set in the same way, so if you scale your training data, you will want to scale your test data in the same way (with the same parameters)!"
   ]
  },
  {
   "cell_type": "markdown",
   "id": "4d7fbb69",
   "metadata": {},
   "source": [
    "### Dropping unneeded columns\n",
    "\n",
    "For the example model we are going to train in this notebook, we are only using a subset of the features in the training set. Figuring out how to incorporate the rest is your challenge! 😉\n",
    "\n",
    "With that in mind, we can start by dropping all the columns in our dataset we are not going to use this time around."
   ]
  },
  {
   "cell_type": "code",
   "execution_count": 15,
   "id": "641d9a16",
   "metadata": {},
   "outputs": [],
   "source": [
    "train_df.drop(\n",
    "    columns=[\n",
    "        \"date\",\n",
    "        \"full_time_home_goals\",\n",
    "        \"full_time_away_goals\",\n",
    "        \"half_time_home_goals\",\n",
    "        \"half_time_away_goals\",\n",
    "        \"half_time_result\",\n",
    "        \"referee\",\n",
    "    ],\n",
    "    inplace=True,\n",
    ")"
   ]
  },
  {
   "cell_type": "code",
   "execution_count": 16,
   "id": "32e71f20",
   "metadata": {},
   "outputs": [
    {
     "data": {
      "text/plain": [
       "Index(['home_team', 'away_team', 'full_time_result', 'home_shots',\n",
       "       'away_shots', 'home_shots_on_target', 'away_shots_on_target',\n",
       "       'home_fouls', 'away_fouls', 'home_corners', 'away_corners',\n",
       "       'home_yellow_cards', 'away_yellow_cards', 'home_red_cards',\n",
       "       'away_red_cards'],\n",
       "      dtype='object')"
      ]
     },
     "execution_count": 16,
     "metadata": {},
     "output_type": "execute_result"
    }
   ],
   "source": [
    "train_df.columns"
   ]
  },
  {
   "cell_type": "markdown",
   "id": "2423f794",
   "metadata": {},
   "source": [
    "### Feature engineering\n",
    "\n",
    "You might wish to engineer a few features of your own, such as calculating the proportion of shots on target. Here is a good place to do so!"
   ]
  },
  {
   "cell_type": "code",
   "execution_count": 17,
   "id": "2cda0304",
   "metadata": {},
   "outputs": [],
   "source": [
    "# EXERCISE: engineer some of your own features!"
   ]
  },
  {
   "cell_type": "markdown",
   "id": "e89b2f1b",
   "metadata": {},
   "source": [
    "### Transforming the data\n",
    "\n",
    "Since we want to apply the same column transformations we do on the training set to the test set, we can construct a `ColumnTransformer` to make this process easier for us.\n",
    "\n",
    "What data transformations might we want to perform?\n",
    "\n",
    "- **Scaling numerical features**: there are many different data scaling techniques you can apply to the numerical features in our training dataset, such as scaling the features to some range (e.g. `[0, 1]`) or standardisation (removing the mean and rescaling to unit variance). Some approaches might be more suitable than others, depending on what you are trying to achieve and the models you are using. This time around, we will take the first approach, but it is a good idea to experiment to see what gives you better results!\n",
    "\n",
    "- **Encoding categorical features**: we cannot train our machine learning models directly on the categorical data, so we need to encode it first, such as by using a one-hot encoding. You might want to explore what other encoding methods exist and the situations where they are the most suitable.\n",
    "\n",
    "- **Dimensionality reduction**: as a result of the _curse of dimensionality_, it can become harder to train models as the number of features increases, so you might want to apply techniques, such as [principal component analysis](https://scikit-learn.org/stable/modules/generated/sklearn.decomposition.PCA.html) (PCA) to reduce the dimensionality of the data.\n",
    "\n",
    "- **Separating the features and labels**: we definitely want to make sure we separate the input features from our output label so that we do not end up training on what we are trying to predict!\n",
    "\n",
    "Most `scikit-learn` classifiers will automatically encode labels for us, so we can skip this step for now, but if you want to apply a neural network trained with `TensorFlow` or `PyTorch` to this problem, you will have to do this.\n"
   ]
  },
  {
   "cell_type": "code",
   "execution_count": 18,
   "id": "61ada17c",
   "metadata": {},
   "outputs": [],
   "source": [
    "numeric_features = [\n",
    "    \"home_shots\",\n",
    "    \"away_shots\",\n",
    "    \"home_shots_on_target\",\n",
    "    \"away_shots_on_target\",\n",
    "    \"home_fouls\",\n",
    "    \"away_fouls\",\n",
    "    \"home_corners\",\n",
    "    \"away_corners\",\n",
    "    \"home_yellow_cards\",\n",
    "    \"away_yellow_cards\",\n",
    "    \"home_red_cards\",\n",
    "    \"away_red_cards\",\n",
    "]\n",
    "\n",
    "transformer = make_column_transformer(\n",
    "    (MinMaxScaler(), numeric_features),\n",
    "    (OneHotEncoder(), [\"home_team\", \"away_team\"]),\n",
    "    # OPTIONAL EXERCISE: add PCA\n",
    ")\n",
    "\n",
    "X = transformer.fit_transform(train_df.drop(columns=[\"full_time_result\"]))\n",
    "y = train_df[\"full_time_result\"]"
   ]
  },
  {
   "cell_type": "markdown",
   "id": "0b817b1d",
   "metadata": {},
   "source": [
    "## Model Selection, Training & Evaluation\n",
    "\n",
    "This is where the magic happens: selecting, training and evaluating machine learning models. \n",
    "\n",
    "### A little theory\n",
    "\n",
    "Recall that we are trying to develop a model with the lowest **generalisation error** (or **out-of-sample error**), which is a measure of how well our model performs on unseen data. Of course, we cannot compute this directly &ndash; the data is unseen! &ndash; so we use the **empirical error** from evaluating the model on a test set, which is not used in training at all, as a proxy. This is what we show on the [DOXA scoreboard](https://doxaai.com/competition/epl).\n",
    "\n",
    "In the ideal scenario, our model will generalise to perform similarly on both the training and test sets; however, this is not always the case. If our model starts to fit to the noise (or residual variation) in our training dataset, rather than the underlying function we are trying to learn (the signal), we end up with **overfitting**; and likewise, if the representation of our model is not rich enough to encode the true underlying relationship in the data, our model ends up **underfitting**. Both issues cause our model to perform worse when evaluated out-of-sample.\n",
    "\n",
    "There are a lot of different models available to us, each with a range of **hyperparameters** we can tune to affect the learning process; however, if we use the performance of our models on the test set as the basis for updating hyperparameters, we stand the real chance of leaking information about and overfitting to the test set.\n",
    "\n",
    "One approach is to further subdivide our training dataset into a training set and a completely separate **validation set**, but training data is precious a lot of the time, and we would not want to overfit to that too. An alternative approach here is to perform (**stratified**) **k-fold cross-validation**, where we (randomly) partition the data into `k` \"folds\", train `k` models using each fold for validation and the remaining folds for training, and average the results. You can read more about this in the [scikit-learn documentation](https://scikit-learn.org/stable/modules/cross_validation.html).\n",
    "\n",
    "Putting this all together, we finally just need a strategy for optimising our hyperparameters. One (albeit potentially slow) way is just to perform a **cross-validated grid search** over a grid of hyperparameter values we want to investigate in order to try out a range of different combinations. When we think we have found the model with the best set of hyperparameters, we can retrain it on all of the training data and then evaluate it on the test set. Bam! 😎\n",
    "\n",
    "### Putting everything into practice\n",
    "\n",
    "We can now try applying what we know by performing a small grid search of our own on a [linear support vector classifier](https://scikit-learn.org/stable/modules/generated/sklearn.svm.LinearSVC.html) (or `LinearSVC`) to find the value of the hyperparameter `C` (which controls the strength of regularisation that is applied) that gives the best performing model!"
   ]
  },
  {
   "cell_type": "code",
   "execution_count": 19,
   "id": "3e0e47c2",
   "metadata": {},
   "outputs": [
    {
     "name": "stdout",
     "output_type": "stream",
     "text": [
      "Best parameters: {'C': 0.1}\n",
      "Best micro-averaged F1 score: 0.5711915535444948\n"
     ]
    }
   ],
   "source": [
    "parameter_grid = {\n",
    "    \"C\": [0.1, 1, 10],\n",
    "    # you can add more parameters here!\n",
    "}\n",
    "\n",
    "classifier = GridSearchCV(LinearSVC(max_iter=2000), parameter_grid, scoring=\"f1_micro\")\n",
    "classifier.fit(X, y)\n",
    "\n",
    "print(\"Best parameters:\", classifier.best_params_)\n",
    "print(\"Best micro-averaged F1 score:\", classifier.best_score_)"
   ]
  },
  {
   "cell_type": "markdown",
   "id": "bf08b0bf",
   "metadata": {},
   "source": [
    "Neat! We just used [GridSearchCV](https://scikit-learn.org/stable/modules/generated/sklearn.model_selection.GridSearchCV.html) to perform a cross-validated grid search and automatically retrain the model on all of the training data, which we could now use to make predictions for the test set if we so wanted. A score of 57% is really not bad for our first attempt &ndash; this is not an easy problem!\n",
    "\n",
    "Now, it is your turn &ndash; try performing grid searches for other model types, such as [decision tree classifiers](https://scikit-learn.org/stable/modules/generated/sklearn.tree.DecisionTreeClassifier.html), [logistic regression models](https://scikit-learn.org/stable/modules/generated/sklearn.linear_model.LogisticRegression.html), [support vector machines](https://scikit-learn.org/stable/modules/generated/sklearn.svm.SVC.html) with non-linear kernels, and [random forest classifiers](https://scikit-learn.org/stable/modules/generated/sklearn.ensemble.RandomForestClassifier.html)! How much better can you do?"
   ]
  },
  {
   "cell_type": "code",
   "execution_count": 20,
   "id": "a09ca59c",
   "metadata": {},
   "outputs": [],
   "source": [
    "# EXERCISE: try out a grid search of your own!"
   ]
  },
  {
   "cell_type": "markdown",
   "id": "00dfa10d",
   "metadata": {},
   "source": [
    "But hang on a minute &ndash; what is a \"micro-averaged F1 score\" that we are using to evaluate our models?\n",
    "\n",
    "### Evaluation metrics\n",
    "\n",
    "There are several different metrics we can use to evaluate the performance of a classifier, most notably **accuracy**; however, accuracy can sometimes be misleading when evaluating on an imbalanced dataset, since it does not take the distribution of the classes into account. Here, there is a clear home advantage, so we might want to consider other metrics.\n",
    "\n",
    "In a binary classification setting, where we have trained a model to classify examples as belonging to either a positive class or a negative class, **true positives** (TP) and **true negatives** (TN) are outcomes that have been correctly classified by our model. Likewise, **false positives** (FN) and **false negatives** (FN) represent outcomes that have been incorrectly classified as positive and negative, respectively.\n",
    "\n",
    "**Precision** &ndash; also known as the **positive predictive value** (PPV) &ndash; is the proportion of positive predictions that were correctly classified:\n",
    "\n",
    "\\begin{equation*}\n",
    "    \\text{precision} = \\frac{TP}{TP + FP}\n",
    "\\end{equation*}\n",
    "\n",
    "**Recall** &ndash; also known as the **true positive rate** (TPR) or in the binary setting, **sensitivity** &ndash; is the proportion of true positive examples that were correctly classified by the model:\n",
    "\n",
    "\\begin{equation*}\n",
    "    \\text{recall} = \\frac{TP}{TP + FN}\n",
    "\\end{equation*}\n",
    "\n",
    "An **F<sub>1</sub> score** combines both precision and recall by taking their harmonic mean:\n",
    "\n",
    "\\begin{equation*}\n",
    "    F_1 = 2 \\cdot \\frac{\\text{precision} \\cdot \\text{recall}}{\\text{precision} + \\text{recall}} = \\frac{2 \\cdot TP}{2 \\cdot TP + FP + FN}\n",
    "\\end{equation*}\n",
    "\n",
    "Depending on our objectives, this can make it a useful metric for evaluating the performance of a classifier. Note that as we can see from the equation, it takes true positives, false positives and false negatives into account (but not true negatives).\n",
    "\n",
    "Now, this is interesting for binary classification, but our challenge is that of multi-class classification, so what can we do to extend these metrics for binary classification to the multi-class setting?\n",
    "\n",
    "- **Macro-averaging** calculates the metric for each class separately (taking a one-versus-rest approach) and then takes an unweighted mean of the results, weighing each class equally.\n",
    "- **Micro-averaging** aggregates the prediction outcomes across all classes to calculate the metric, weighing each sample equally.\n",
    "\n",
    "For this challenge, we decided to go with the micro-averaged F<sub>1</sub> score given the imbalanced nature of the problem arising from the home advantage phenomenon.\n",
    "\n",
    "### Plotting a confusion matrix\n",
    "\n",
    "A **confusion matrix** is a way to visualise a summary of the predictions made by the classifier we trained. Note that correctly predicted labels appear on the diagonal!"
   ]
  },
  {
   "cell_type": "code",
   "execution_count": 21,
   "id": "ec4b9c9b",
   "metadata": {},
   "outputs": [
    {
     "data": {
      "text/plain": [
       "<sklearn.metrics._plot.confusion_matrix.ConfusionMatrixDisplay at 0x285beb0e800>"
      ]
     },
     "execution_count": 21,
     "metadata": {},
     "output_type": "execute_result"
    },
    {
     "data": {
      "application/vnd.jupyter.widget-view+json": {
       "model_id": "cf8789acb092462ea0befd8d2b08932c",
       "version_major": 2,
       "version_minor": 0
      },
      "image/png": "[encoded data removed]",
      "text/html": [
       "\n",
       "            <div style=\"display: inline-block;\">\n",
       "                <div class=\"jupyter-widgets widget-label\" style=\"text-align: center;\">\n",
       "                    Figure\n",
       "                </div>\n",
       "                <img src='data:image/png;base64,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' width=640.0/>\n",
       "            </div>\n",
       "        "
      ],
      "text/plain": [
       "Canvas(toolbar=Toolbar(toolitems=[('Home', 'Reset original view', 'home', 'home'), ('Back', 'Back to previous …"
      ]
     },
     "metadata": {},
     "output_type": "display_data"
    }
   ],
   "source": [
    "ConfusionMatrixDisplay.from_predictions(y_true=y, y_pred=classifier.predict(X))"
   ]
  },
  {
   "cell_type": "markdown",
   "id": "6625802f",
   "metadata": {},
   "source": [
    "## Preparing our DOXA Submission\n",
    "\n",
    "Once we are content with the performance of our model, we can apply it to the test set and submit its predictions to DOXA! \n",
    "\n",
    "We just need to transform the test set features the same way we transformed the training set earlier on before we can feed everything into our trained classifier."
   ]
  },
  {
   "cell_type": "code",
   "execution_count": 22,
   "id": "add2d754",
   "metadata": {},
   "outputs": [],
   "source": [
    "# Drop columns we do not need\n",
    "test_df.drop(columns=[\"date\", \"referee\"], inplace=True)\n",
    "\n",
    "# Transform the test set\n",
    "X_test = transformer.transform(test_df)\n",
    "\n",
    "# Use our trained classifier to make predictions\n",
    "predictions = classifier.predict(X_test)"
   ]
  },
  {
   "cell_type": "markdown",
   "id": "b170f298",
   "metadata": {},
   "source": [
    "We can quickly look at a few of the resulting predictions just to make sure that the output is relatively sane."
   ]
  },
  {
   "cell_type": "code",
   "execution_count": 23,
   "id": "703a6cf8",
   "metadata": {},
   "outputs": [
    {
     "data": {
      "text/plain": [
       "array(['A', 'H', 'A', 'A', 'H', 'H', 'H', 'H', 'H', 'A', 'H', 'A', 'H',\n",
       "       'H', 'H', 'H', 'H', 'H', 'H', 'H'], dtype=object)"
      ]
     },
     "execution_count": 23,
     "metadata": {},
     "output_type": "execute_result"
    }
   ],
   "source": [
    "predictions[:20]"
   ]
  },
  {
   "cell_type": "markdown",
   "id": "df1c266d",
   "metadata": {},
   "source": [
    "We can also check that the number of predictions matches what we expect."
   ]
  },
  {
   "cell_type": "code",
   "execution_count": 24,
   "id": "be123a85",
   "metadata": {},
   "outputs": [
    {
     "data": {
      "text/plain": [
       "(736,)"
      ]
     },
     "execution_count": 24,
     "metadata": {},
     "output_type": "execute_result"
    }
   ],
   "source": [
    "predictions.shape"
   ]
  },
  {
   "cell_type": "markdown",
   "id": "61b50f88",
   "metadata": {},
   "source": [
    "Neat! Everything looks good &ndash; the output is exactly the shape it should be with 736 entries, so we are ready to prepare our submission package and upload our predictions to DOXA for evaluation on the test set."
   ]
  },
  {
   "cell_type": "code",
   "execution_count": null,
   "id": "4d31ba29",
   "metadata": {},
   "outputs": [],
   "source": [
    "os.makedirs(\"submission\", exist_ok=True)\n",
    "\n",
    "with open(\"submission/y.txt\", \"w\") as f:\n",
    "    f.writelines([f\"{prediction}\\n\" for prediction in predictions])\n",
    "\n",
    "with open(\"submission/doxa.yaml\", \"w\") as f:\n",
    "    f.write(\"competition: epl\\nenvironment: cpu\\nlanguage: python\\nentrypoint: run.py\")\n",
    "\n",
    "with open(\"submission/run.py\", \"w\") as f:\n",
    "    f.write(\"with open('y.txt', 'r') as f: print(f.read().strip())\")"
   ]
  },
  {
   "cell_type": "markdown",
   "id": "5a812a40",
   "metadata": {},
   "source": [
    "## Submitting to DOXA\n",
    "\n",
    "Before you can submit to DOXA, you must first ensure that you are enrolled for the challenge on the DOXA website. Visit [the challenge page](https://doxaai.com/competition/uclais-1) and click \"Enrol\" in the top-right corner if you have not done so already.\n",
    "\n",
    "You can then log in using the DOXA CLI by running the following command:"
   ]
  },
  {
   "cell_type": "code",
   "execution_count": null,
   "id": "5c4c2657",
   "metadata": {},
   "outputs": [],
   "source": [
    "!doxa login"
   ]
  },
  {
   "cell_type": "markdown",
   "id": "2e443437",
   "metadata": {},
   "source": [
    "Finally, you can submit your results to DOXA by running the following command:"
   ]
  },
  {
   "cell_type": "code",
   "execution_count": null,
   "id": "34c96e65",
   "metadata": {},
   "outputs": [],
   "source": [
    "!doxa upload submission"
   ]
  },
  {
   "cell_type": "markdown",
   "id": "661cbd4f",
   "metadata": {},
   "source": [
    "Wooo! 🥳 You have (probably) just uploaded your English Premier League match result predictions to DOXA &ndash; well done! Take a moment to see how you have done on the [scoreboard](https://doxaai.com/competition/epl)."
   ]
  },
  {
   "cell_type": "markdown",
   "id": "e3c8c565",
   "metadata": {},
   "source": [
    "## Possible Improvements & Reflections\n",
    "\n",
    "Congratulations &ndash; you have made it to the end! We hope you have enjoyed learning about and applying machine learning to this challenge. Hopefully, you can now start experimenting with your own ideas to see how you can improve the performance of your model!\n",
    "\n",
    "Here are a few ideas to get you started on making improvements:\n",
    "\n",
    "**1. Data Collection**\n",
    "- You are more than welcome to try sourcing and cleaning additional data (such as individual player rating data or even shot-level data) to help you train your model &ndash; just be careful not to accidentally train on what we are trying to predict.\n",
    "\n",
    "**2. Data Visualisation**\n",
    "- Visualise other features as well (beyond just shots on target) to see what other features correlate well with the chance of a team winning. If there are any features that do not correlate particularly well with the chance of a team winning, perhaps it should be removed.\n",
    "- Produce a correlation matrix to do this all in a single visualisation.\n",
    "\n",
    "**3. Data Preprocessing**\n",
    "- Apply the [PCA algorithm](https://scikit-learn.org/stable/modules/generated/sklearn.decomposition.PCA.html) to reduce the dimensionality of our data by projecting each input sample onto a lower dimensional subspace while trying to maximally preserve the variation in the data. The number of components you pick is a hyperparameter that you can tune.\n",
    "- Determine how you can incorporate dates into the model; teams are likely to vary in performance over time.\n",
    "- Explore how you could implement [Elo ratings](https://blog.collegefootballdata.com/talking-tech-elo-ratings/) to track the performance of a team each season.\n",
    "- Experiment with creating other offensive and defensive metrics of your own!\n",
    "\n",
    "**4. Model Selection**\n",
    "- Try out a wider selection of model types beyond those listed in the notebook, such as [gradient boosting classifiers](https://scikit-learn.org/stable/modules/generated/sklearn.ensemble.GradientBoostingClassifier.html) and [ensemble methods](https://scikit-learn.org/stable/modules/ensemble.html).\n",
    "- [GridSearchCV](https://scikit-learn.org/stable/modules/generated/sklearn.model_selection.GridSearchCV.html) is not your only option, other hyperparameter optimisers are availabe in `scikit-learn`, such as [HalvingGridSearchCV](https://scikit-learn.org/stable/modules/generated/sklearn.model_selection.HalvingGridSearchCV.html) and [RandomizedSearchCV](https://scikit-learn.org/stable/modules/generated/sklearn.model_selection.RandomizedSearchCV.html).\n",
    "- Check out using [BayesSearchCV](https://scikit-optimize.github.io/stable/auto_examples/sklearn-gridsearchcv-replacement.html) from the [scikit-optimize](https://scikit-optimize.github.io/stable/) package, which searches the space of hyperparameters using Bayesian optimisation and is a drop-in replacement for [GridSearchCV](https://scikit-learn.org/stable/modules/generated/sklearn.model_selection.GridSearchCV.html).\n",
    "\n",
    "## Closing Remarks\n",
    "\n",
    "In a more realistic scenario, you might instead want to build a model to predict the outcomes of future matches, rather than the results of past ones (which you could probably look up!); moreover, the test set would only contain features we could know in advance of the match happening, such as `date` (where dates are in the future), `home_team` and `away_team`. How might you be able to adapt the model we have been building together to predict future match results?\n",
    "\n",
    "To conclude, we hope that you have found this to be a useful and enjoyable exercise in exploring and gaining exposure to some fascinating ideas and concepts in machine learning. We look forward to seeing what you build! Do continue the conversation on the [DOXA Community Discord server](https://discord.gg/MUvbQ3UYcf). 😎"
   ]
  }
 ],
 "metadata": {
  "kernelspec": {
   "display_name": "Python 3.10.1 64-bit",
   "language": "python",
   "name": "python3"
  },
  "language_info": {
   "codemirror_mode": {
    "name": "ipython",
    "version": 3
   },
   "file_extension": ".py",
   "mimetype": "text/x-python",
   "name": "python",
   "nbconvert_exporter": "python",
   "pygments_lexer": "ipython3",
   "version": "3.10.1"
  },
  "vscode": {
   "interpreter": {
    "hash": "369f2c481f4da34e4445cda3fffd2e751bd1c4d706f27375911949ba6bb62e1c"
   }
  }
 },
 "nbformat": 4,
 "nbformat_minor": 5
}
